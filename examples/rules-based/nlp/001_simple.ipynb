{
 "cells": [
  {
   "cell_type": "markdown",
   "metadata": {},
   "source": [
    "## Simple Natural Language Parsing\n",
    "\n",
    "This is an example of using the engine for simple, template-based pattern matching. A sample sentence is parsed into Subject, Action, and Object."
   ]
  },
  {
   "cell_type": "code",
   "execution_count": 1,
   "metadata": {},
   "outputs": [],
   "source": [
    "import os, sys\n",
    "sys.path.insert(1, os.path.abspath('..\\\\..\\\\..'))\n",
    "from thoughts.rules_engine import RulesEngine\n",
    "import pprint\n",
    "\n",
    "# start a new engine\n",
    "engine = RulesEngine()"
   ]
  },
  {
   "cell_type": "markdown",
   "metadata": {},
   "source": [
    "## Define Template Rules\n",
    "\n",
    "In this rule, a wildcard ?subject and ?object are matched. The verb is \"hard coded\" for now just to show a simple example."
   ]
  },
  {
   "cell_type": "code",
   "execution_count": 2,
   "metadata": {},
   "outputs": [],
   "source": [
    "rules = [\n",
    "    {\"#when\": \"?subject jumped over ?object\",\n",
    "     \"#then\": [{\"SUBJECT\": \"?subject\", \"OBJECT\": \"?object\", \"ACTION\": \"jumped over\"}]}\n",
    "]\n",
    "\n",
    "engine.add_rules(rules)"
   ]
  },
  {
   "cell_type": "markdown",
   "metadata": {},
   "source": [
    "## Parse a Sentence\n",
    "\n",
    "Run the input sentence as an assertion and see the result. Note that the rule has matched the text in the defined slots. The #then portion collects these up into a nice little package."
   ]
  },
  {
   "cell_type": "code",
   "execution_count": 3,
   "metadata": {},
   "outputs": [
    {
     "name": "stdout",
     "output_type": "stream",
     "text": [
      "[{'ACTION': 'jumped over',\n",
      "  'OBJECT': 'the lazy dog',\n",
      "  'SUBJECT': 'the quick brown fox'}]\n"
     ]
    }
   ],
   "source": [
    "result = engine.process(\"the quick brown fox jumped over the lazy dog\")\n",
    "pprint.pprint(result)"
   ]
  },
  {
   "cell_type": "markdown",
   "metadata": {},
   "source": [
    "## Simple Sub Parsing of Constituents\n",
    "\n",
    "Individual pieces of the main parsed sentence (constituents) can then trigger additional rules.\n",
    "\n",
    "In the example below, the OBJECT is parsed, similar to how a noun phrase would be parsed."
   ]
  },
  {
   "cell_type": "code",
   "execution_count": 4,
   "metadata": {},
   "outputs": [
    {
     "name": "stdout",
     "output_type": "stream",
     "text": [
      "[{'OBJECT': {'ENTITY': 'dog', 'NUMBER': 'singular', 'QUALITY': 'lazy'}}]\n"
     ]
    }
   ],
   "source": [
    "rule = {\n",
    "    \"#when\": {\"OBJECT\": \"the ?quality ?entity\"},\n",
    "    \"#then\": [{\"OBJECT\": {\"ENTITY\": \"?entity\", \"QUALITY\": \"?quality\", \"NUMBER\": \"singular\"}}]}\n",
    "\n",
    "engine.add_rule(rule)\n",
    "\n",
    "# engine.run_assert(\"the quick brown fox jumped over the lazy dog\")\n",
    "result = engine.process(\"the quick brown fox jumped over the lazy dog\")\n",
    "pprint.pprint(result)"
   ]
  },
  {
   "cell_type": "markdown",
   "metadata": {},
   "source": [
    "## Wrapping Things Up\n",
    "\n",
    "Let's add the rule for Subject. It looks similiar to the rule for Object. In fact, it appears that we're starting to duplicate the rules a bit. Also the Action verb phrase was harded coded still."
   ]
  },
  {
   "cell_type": "code",
   "execution_count": 5,
   "metadata": {},
   "outputs": [
    {
     "name": "stdout",
     "output_type": "stream",
     "text": [
      "[{'OBJECT': {'ENTITY': 'dog', 'NUMBER': 'singular', 'QUALITY': 'lazy'}},\n",
      " {'SUBJECT': {'ENTITY': 'brown fox', 'NUMBER': 'singular', 'QUALITY': 'quick'}}]\n"
     ]
    }
   ],
   "source": [
    "rule = {\n",
    "    \"#when\": {\"SUBJECT\": \"the ?quality ?entity\"},\n",
    "    \"#then\": [{\"SUBJECT\": {\"ENTITY\": \"?entity\", \"QUALITY\": \"?quality\", \"NUMBER\": \"singular\"}}]}\n",
    "\n",
    "engine.add_rule(rule)\n",
    "\n",
    "# engine.run_assert(\"the quick brown fox jumped over the lazy dog\")\n",
    "result = engine.process(\"the quick brown fox jumped over the lazy dog\")\n",
    "pprint.pprint(result)"
   ]
  },
  {
   "cell_type": "markdown",
   "metadata": {},
   "source": [
    "## Next Steps\n",
    "\n",
    "This parsing technique is great for a quick way to template your parsing when you know the structure well ahead of time. But perhaps there's a better way to wrap up the noun phrase parsing which can be used by both rules, and a better way to handle not just one particulare verb but other verbs? Read on the rest of the tutorials to find out more."
   ]
  }
 ],
 "metadata": {
  "kernelspec": {
   "display_name": ".venv",
   "language": "python",
   "name": "python3"
  },
  "language_info": {
   "codemirror_mode": {
    "name": "ipython",
    "version": 3
   },
   "file_extension": ".py",
   "mimetype": "text/x-python",
   "name": "python",
   "nbconvert_exporter": "python",
   "pygments_lexer": "ipython3",
   "version": "3.11.9"
  },
  "orig_nbformat": 4
 },
 "nbformat": 4,
 "nbformat_minor": 2
}
