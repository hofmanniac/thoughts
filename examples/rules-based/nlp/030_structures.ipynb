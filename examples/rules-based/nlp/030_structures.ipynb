{
 "cells": [
  {
   "cell_type": "markdown",
   "metadata": {},
   "source": [
    "## Building Up Structures\n"
   ]
  },
  {
   "cell_type": "code",
   "execution_count": 1,
   "metadata": {},
   "outputs": [],
   "source": [
    "import os, sys\n",
    "sys.path.insert(1, os.path.abspath('..\\\\..\\\\..'))\n",
    "from thoughts.rules_engine import RulesEngine\n",
    "import pprint\n",
    "\n",
    "# start a new engine\n",
    "engine = RulesEngine()"
   ]
  },
  {
   "cell_type": "markdown",
   "metadata": {},
   "source": [
    "## Tokenizing, Enhancing, and Sequencing"
   ]
  },
  {
   "cell_type": "code",
   "execution_count": 2,
   "metadata": {},
   "outputs": [
    {
     "name": "stdout",
     "output_type": "stream",
     "text": [
      "[{'#clear-arcs': ''},\n",
      " {'lemma': 'the', 'cat': 'det', '#seq-start': 0, '#seq-end': 1},\n",
      " {'lemma': 'quick', 'cat': 'adj', '#seq-start': 1, '#seq-end': 2},\n",
      " {'lemma': 'brown', 'cat': 'adj', '#seq-start': 2, '#seq-end': 3},\n",
      " {'lemma': 'fox', 'cat': 'noun', '#seq-start': 3, '#seq-end': 4},\n",
      " {'lemma': 'jumped', 'cat': 'verb', '#seq-start': 4, '#seq-end': 5},\n",
      " {'lemma': 'over', 'cat': 'prep', '#seq-start': 5, '#seq-end': 6},\n",
      " {'lemma': 'the', 'cat': 'det', '#seq-start': 6, '#seq-end': 7},\n",
      " {'lemma': 'lazy', 'cat': 'adj', '#seq-start': 7, '#seq-end': 8},\n",
      " {'cat': 'np', 'entity': 'dog'}]\n"
     ]
    }
   ],
   "source": [
    "rules = [\n",
    "  \n",
    "    {\"lemma\": \"the\", \"cat\": \"det\"},\n",
    "    {\"lemma\": \"quick\", \"cat\": \"adj\"},\n",
    "    {\"lemma\": \"brown\", \"cat\": \"adj\"},\n",
    "    {\"lemma\": \"fox\", \"cat\": \"noun\"},\n",
    "    {\"lemma\": \"jumped\", \"cat\": \"verb\"},\n",
    "    {\"lemma\": \"over\", \"cat\": \"prep\"},\n",
    "    {\"lemma\": \"lazy\", \"cat\": \"adj\"},\n",
    "    {\"lemma\": \"dog\", \"cat\": \"noun\"},\n",
    "\n",
    "    {\"#when\": {\"text\": \"?sentence\"},\n",
    "     \"#then\": [{\"#clear-arcs\": \"\"},\n",
    "               {\"#tokenize\": \"?sentence\", \"assert\": {\"#lookup\": {\"lemma\": \"#\"}}}]\n",
    "    },\n",
    "\n",
    "    {\"#when\": [{\"cat\": \"det\"}, {\"cat\": \"adj\"}, {\"cat\": \"noun\", \"lemma\": \"?noun\"}],\n",
    "    \"#then\":  [{\"cat\": \"np\", \"entity\": \"?noun\"}]}\n",
    "]\n",
    "\n",
    "engine.add_rules(rules)\n",
    "\n",
    "results = engine.process({\"text\": \"the quick brown fox jumped over the lazy dog\"})\n",
    "pprint.pprint(results, sort_dicts=False)"
   ]
  },
  {
   "cell_type": "markdown",
   "metadata": {},
   "source": [
    "## Additional Sequences"
   ]
  },
  {
   "cell_type": "code",
   "execution_count": 3,
   "metadata": {},
   "outputs": [
    {
     "name": "stdout",
     "output_type": "stream",
     "text": [
      "[{'#clear-arcs': ''},\n",
      " {'lemma': 'the', 'cat': 'det', '#seq-start': 0, '#seq-end': 1},\n",
      " {'lemma': 'quick', 'cat': 'adj', '#seq-start': 1, '#seq-end': 2},\n",
      " {'lemma': 'brown', 'cat': 'adj', '#seq-start': 2, '#seq-end': 3},\n",
      " {'cat': 'np', 'entity': 'fox'},\n",
      " {'lemma': 'jumped', 'cat': 'verb', '#seq-start': 4, '#seq-end': 5},\n",
      " {'lemma': 'over', 'cat': 'prep', '#seq-start': 5, '#seq-end': 6},\n",
      " {'lemma': 'the', 'cat': 'det', '#seq-start': 6, '#seq-end': 7},\n",
      " {'lemma': 'lazy', 'cat': 'adj', '#seq-start': 7, '#seq-end': 8},\n",
      " {'cat': 's'}]\n"
     ]
    }
   ],
   "source": [
    "rules = [\n",
    "\n",
    "    {\"#when\": [{\"cat\": \"det\"}, {\"cat\": \"adj\"}, {\"cat\": \"adj\"}, {\"cat\": \"noun\", \"lemma\": \"?noun\"}],\n",
    "    \"#then\":  [{\"cat\": \"np\", \"entity\": \"?noun\"}]},\n",
    "\n",
    "    {\"#when\": [{\"cat\": \"np\"}, {\"cat\": \"verb\"}, {\"cat\": \"prep\"}, {\"cat\": \"np\"}],\n",
    "    \"#then\":  [{\"cat\": \"s\"}]}\n",
    "]\n",
    "\n",
    "engine.add_rules(rules)\n",
    "\n",
    "engine.clear_arcs()\n",
    "\n",
    "results = engine.process({\"text\": \"the quick brown fox jumped over the lazy dog\"})\n",
    "pprint.pprint(results, sort_dicts=False)\n",
    "\n",
    "# pprint.pprint(engine.context.arcs, sort_dicts=False)"
   ]
  },
  {
   "cell_type": "markdown",
   "metadata": {},
   "source": [
    "## Higher Level Structures"
   ]
  },
  {
   "cell_type": "code",
   "execution_count": null,
   "metadata": {},
   "outputs": [],
   "source": []
  }
 ],
 "metadata": {
  "kernelspec": {
   "display_name": ".venv",
   "language": "python",
   "name": "python3"
  },
  "language_info": {
   "codemirror_mode": {
    "name": "ipython",
    "version": 3
   },
   "file_extension": ".py",
   "mimetype": "text/x-python",
   "name": "python",
   "nbconvert_exporter": "python",
   "pygments_lexer": "ipython3",
   "version": "3.11.9"
  },
  "orig_nbformat": 4
 },
 "nbformat": 4,
 "nbformat_minor": 2
}
