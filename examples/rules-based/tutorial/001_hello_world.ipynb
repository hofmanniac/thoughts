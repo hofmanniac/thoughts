{
 "cells": [
  {
   "cell_type": "markdown",
   "metadata": {},
   "source": [
    "## Hello, World!\n",
    "\n",
    "This is the canonical \"Hello, World\" example, to demonstrate the simplest possible use of the engine."
   ]
  },
  {
   "cell_type": "code",
   "execution_count": null,
   "metadata": {},
   "outputs": [],
   "source": [
    "import os, sys\n",
    "sys.path.insert(1, os.path.abspath('..\\\\..\\\\..'))\n",
    "from thoughts.rules_engine import RulesEngine\n",
    "\n",
    "# start a new engine\n",
    "engine = RulesEngine()\n",
    "\n",
    "# define your rules\n",
    "rule = {\"#when\": \"test\", \n",
    "        \"#then\": {\"#output\": \"hello, world!\"} }\n",
    "\n",
    "# load the rules into the engine\n",
    "engine.add_rule(rule)\n",
    "\n",
    "# run assertions against those rules\n",
    "result = engine.process(\"test\")"
   ]
  },
  {
   "cell_type": "code",
   "execution_count": null,
   "metadata": {},
   "outputs": [],
   "source": [
    "import os, sys\n",
    "sys.path.insert(1, os.path.abspath('..\\\\..\\\\..'))\n",
    "from thoughts.operations.rules import RulesOrchestrator\n",
    "\n",
    "# start a new rule orchestrator\n",
    "orchestrator = RulesOrchestrator()\n",
    "\n",
    "# define your rules\n",
    "rule = {\"When\": \"test\", \n",
    "        \"Then\": {\"Write\": \"hello, world!\"} }\n",
    "\n",
    "# load the rule into the orchestrator\n",
    "orchestrator.add_rule(rule)\n",
    "\n",
    "# run assertions against those rules\n",
    "result = orchestrator.process(\"test\")"
   ]
  },
  {
   "cell_type": "markdown",
   "metadata": {},
   "source": [
    "## Quick Explanation\n",
    "\n",
    "With the Thoughts Rules Engine, you can create one or more rules that will trigger when it detects a match in the #when portion. The engine will trigger the items listed in the #then portion of the rule. The items that are triggered can then cause other rules to trigger.\n",
    "\n",
    "The ability to match incoming assertions with rules and to instantiate variables can range from simple text matching, like the example above, to more sophisticated term (predicate) matching with support for wildcard variables.\n",
    "\n",
    "Read on through the rest of the tutorial and examples to learn more about what you can do with the engine."
   ]
  }
 ],
 "metadata": {
  "kernelspec": {
   "display_name": ".venv",
   "language": "python",
   "name": "python3"
  },
  "language_info": {
   "codemirror_mode": {
    "name": "ipython",
    "version": 3
   },
   "file_extension": ".py",
   "mimetype": "text/x-python",
   "name": "python",
   "nbconvert_exporter": "python",
   "pygments_lexer": "ipython3",
   "version": "3.11.9"
  },
  "orig_nbformat": 4
 },
 "nbformat": 4,
 "nbformat_minor": 2
}
