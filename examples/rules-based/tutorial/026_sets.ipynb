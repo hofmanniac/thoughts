{
 "cells": [
  {
   "cell_type": "markdown",
   "metadata": {},
   "source": [
    "## Set-Based Rules\n",
    "\n",
    "Set-based rules allow you to detect when a group of facts with specific attributes are asserted, independent of the order they were asserted.\n",
    "\n",
    "Let's start up a fresh engine:"
   ]
  },
  {
   "cell_type": "code",
   "execution_count": 1,
   "metadata": {},
   "outputs": [],
   "source": [
    "import os, sys\n",
    "sys.path.insert(1, os.path.abspath('..\\\\..\\\\..'))\n",
    "from thoughts.rules_engine import RulesEngine\n",
    "from pprint import pprint\n",
    "\n",
    "# start a new engine\n",
    "engine = RulesEngine()"
   ]
  },
  {
   "cell_type": "markdown",
   "metadata": {},
   "source": [
    "## Which Animal Am I?\n",
    "\n",
    "Let's build a set of rules to detect what kind of animal is being described, given a set of characteristics.\n",
    "\n",
    "First up, the rules describing the animals:"
   ]
  },
  {
   "cell_type": "code",
   "execution_count": 2,
   "metadata": {},
   "outputs": [],
   "source": [
    "rules = [   {\"#when\": [{\"ears\": \"pointy\"}, {\"tail\": \"long\"}, {\"nose\": \"short\"}],\n",
    "            \"#seq-type\": \"set\",\n",
    "            \"#then\": [{\"isa\": \"CAT\"}] },\n",
    "            \n",
    "            {\"#when\": [{\"ears\": \"floppy\"}, {\"tail\": \"long\"}, {\"nose\": \"medium\"}], \n",
    "            \"#seq-type\": \"set\",\n",
    "            \"#then\": [{\"isa\": \"DOG\"}] },\n",
    "\n",
    "            {\"#when\": [{\"ears\": \"huge\"}, {\"tail\": \"short\"}, {\"nose\": \"long\"}], \n",
    "            \"#seq-type\": \"set\",\n",
    "            \"#then\": [{\"isa\": \"CAT\"}] }\n",
    "        ]\n",
    "\n",
    "engine.add_rules(rules)"
   ]
  },
  {
   "cell_type": "markdown",
   "metadata": {},
   "source": [
    "These look similiar to regular sequence rules with one difference - notice the #seq-type attribute, with the value of \"set\". This tells the engine to trigger once all three facts in the #when part have been asserted, regardless of which order they were asserted.\n",
    "\n",
    "Let's try an example:"
   ]
  },
  {
   "cell_type": "code",
   "execution_count": 3,
   "metadata": {},
   "outputs": [
    {
     "name": "stdout",
     "output_type": "stream",
     "text": [
      "[{'isa': 'DOG'}]\n"
     ]
    }
   ],
   "source": [
    "observations = [{\"nose\": \"medium\"}, {\"tail\": \"long\"}, {\"ears\": \"floppy\"}]\n",
    "\n",
    "result = engine.process(observations, extract_conclusions=True)\n",
    "pprint(result)"
   ]
  },
  {
   "cell_type": "markdown",
   "metadata": {},
   "source": [
    "Notice that the three characteristics were asserted in a different order than the order specified in the rule's #when portion. Just like sequence rules, sets use partially matches rules, or \"arcs\", but do not care about the order that the constituent facts arrive."
   ]
  },
  {
   "cell_type": "markdown",
   "metadata": {},
   "source": [
    "We can run this again using a different order for the observations and the rule will still trigger:"
   ]
  },
  {
   "cell_type": "code",
   "execution_count": 4,
   "metadata": {},
   "outputs": [
    {
     "name": "stdout",
     "output_type": "stream",
     "text": [
      "[{'isa': 'DOG'}]\n"
     ]
    }
   ],
   "source": [
    "observations = [{\"ears\": \"floppy\"}, {\"nose\": \"medium\"}, {\"tail\": \"long\"}]\n",
    "\n",
    "result = engine.process(observations, extract_conclusions=True)\n",
    "pprint(result)"
   ]
  },
  {
   "cell_type": "markdown",
   "metadata": {},
   "source": [
    "## Constituent Set Members are Mutually Exclusive Within the Same Rule\n",
    "\n",
    "Things get more complex when you are detecting different types of sets and those sets are built upon the same underlying constituent members. You don't want the same members being used twice in the same rule.\n",
    "\n",
    "Consider the following scenario, which will detect the sequence ABA and then if two of those sequences are in a set, will trigger FOUND."
   ]
  },
  {
   "cell_type": "code",
   "execution_count": 5,
   "metadata": {},
   "outputs": [
    {
     "name": "stdout",
     "output_type": "stream",
     "text": [
      "['SEQ1', 'SEQ1']\n"
     ]
    }
   ],
   "source": [
    "rules = [ {\"#when\": [\"A\", \"B\", \"A\"], \"#then\": \"SEQ1\" },\n",
    "          {\"#when\": [\"SEQ1\", \"SEQ1\"], \"#then\": \"FOUND\", \"#seq-type\": \"set\" } ]\n",
    "\n",
    "engine.clear_rules()\n",
    "engine.add_rules(rules)\n",
    "\n",
    "observations = [\"A\", \"B\", \"A\", \"B\", \"A\"]\n",
    "\n",
    "result = engine.process(observations, extract_conclusions=True)\n",
    "pprint(result)"
   ]
  },
  {
   "cell_type": "markdown",
   "metadata": {},
   "source": [
    "FOUND did not trigger. This is because the middle 'A' would be a member of both SEQ1 sets. The engine does this to prevent the same member from being used in two different portions of the same rule.\n",
    "\n",
    "There are two ways to relax this restriction, depending on if you want to preserve some connection between the members or to allow for members to belong to as many sets in the same rule as possible."
   ]
  },
  {
   "cell_type": "markdown",
   "metadata": {},
   "source": [
    "## Overlapping Sets\n",
    "\n",
    "First, you can allow for the rule to trigger if the constituent is both the last member in the previous sequence and the first member in the next sequence, by using the #seq-type of \"overlap-connected\". Here the middle 'A' connects both sequences. It is the last member of the first sequence and the first member of the last sequence."
   ]
  },
  {
   "cell_type": "code",
   "execution_count": 6,
   "metadata": {},
   "outputs": [
    {
     "name": "stdout",
     "output_type": "stream",
     "text": [
      "['SEQ1', 'FOUND']\n"
     ]
    }
   ],
   "source": [
    "rules = [ {\"#when\": [\"A\", \"B\", \"A\"], \"#then\": \"SEQ1\" },\n",
    "          {\"#when\": [\"SEQ1\", \"SEQ1\"], \"#then\": \"FOUND\", \"#seq-type\": \"overlap-connected\" } ]\n",
    "\n",
    "engine.clear_rules()\n",
    "engine.add_rules(rules)\n",
    "\n",
    "observations = [\"A\", \"B\", \"A\", \"B\", \"A\"]\n",
    "\n",
    "result = engine.process(observations, extract_conclusions=True)\n",
    "pprint(result)"
   ]
  },
  {
   "cell_type": "markdown",
   "metadata": {},
   "source": [
    "## Alllowing the Same Constituent in Multiple Sets in the Same Rule\n",
    "\n",
    "Second, you can set the #seq-allow-multi to allow members to be used more than once within the set rule, removing the restriction altogether. In this example, the middle 'A' is used in both sets, and is allowed due to the presence of the #seq-allow-multi attribute."
   ]
  },
  {
   "cell_type": "code",
   "execution_count": 7,
   "metadata": {},
   "outputs": [
    {
     "name": "stdout",
     "output_type": "stream",
     "text": [
      "['SEQ1', 'FOUND']\n"
     ]
    }
   ],
   "source": [
    "rules = [ {\"#when\": [\"A\", \"B\", \"A\"], \"#then\": \"SEQ1\" },\n",
    "          {\"#when\": [\"SEQ1\", \"SEQ1\"], \"#then\": \"FOUND\", \"#seq-type\": \"set\", \"#seq-allow-multi\": True } ]\n",
    "\n",
    "engine.clear_rules()\n",
    "engine.add_rules(rules)\n",
    "\n",
    "observations = [\"A\", \"B\", \"A\", \"B\", \"A\"]\n",
    "\n",
    "result = engine.process(observations, extract_conclusions=True)\n",
    "pprint(result)"
   ]
  },
  {
   "cell_type": "markdown",
   "metadata": {},
   "source": [
    "Because the example above was also connected by an overlapping position, let's look at another example which has the set members more embedded, to illustrate the concept further.\n",
    "\n",
    "Suppose you want to detect whenever you find a pair of consituents alongside a triplet of constituents. If you a familiar with poker hands, this is similiar to the concept of a \"full house\".\n",
    "\n",
    "Here's an example hand:\n",
    "\n",
    "+ A B A B A\n",
    "\n",
    "If members are allowed to be used more than once in a rule, then it would detect multiple full house combinations here, because it would detect three pairs of A's:\n",
    "\n",
    "+ A . A . .\n",
    "+ A . . . A\n",
    "+ . . A . A\n",
    "\n",
    "It would also detect the pair of B's:\n",
    "\n",
    "+ . B . B . \n",
    "\n",
    "Then it would detect the one occurence of the triplet (three of a kind):\n",
    "\n",
    "+ A . A . A\n",
    "\n",
    "Then the rule to detect the full house would use the 3 'A' pairs alongside the 'A' triplet to conclude that there were three full houses detected!\n",
    "\n",
    "Let's see that in action now, with the #seq-allow-multi flag on, which allows for this behavior:"
   ]
  },
  {
   "cell_type": "code",
   "execution_count": 8,
   "metadata": {},
   "outputs": [
    {
     "name": "stdout",
     "output_type": "stream",
     "text": [
      "['PAIR', 'PAIR', 'PAIR', 'FULL HOUSE', 'FULL HOUSE', 'FULL HOUSE', 'FULL HOUSE']\n"
     ]
    }
   ],
   "source": [
    "rules = [ {\"#when\": [\"A\", \"A\"], \"#then\": \"PAIR\", \"#seq-type\": \"allow-junk\" },\n",
    "          {\"#when\": [\"B\", \"B\"], \"#then\": \"PAIR\", \"#seq-type\": \"allow-junk\" },\n",
    "          {\"#when\": [\"A\", \"A\", \"A\"], \"#then\": \"THREES\", \"#seq-type\": \"allow-junk\" },\n",
    "          {\"#when\": [\"B\", \"B\", \"B\"], \"#then\": \"THREES\", \"#seq-type\": \"allow-junk\" },\n",
    "          {\"#when\": [\"THREES\", \"PAIR\"], \"#then\": \"FULL HOUSE\", \"#seq-type\": \"set\", \"#seq-allow-multi\": True } ]\n",
    "\n",
    "engine.clear_rules()\n",
    "engine.add_rules(rules)\n",
    "\n",
    "observations = [\"A\", \"B\", \"A\", \"B\", \"A\"]\n",
    "\n",
    "result = engine.process(observations, extract_conclusions=True)\n",
    "pprint(result)"
   ]
  },
  {
   "cell_type": "markdown",
   "metadata": {},
   "source": [
    "In some scenarios you may want to allow this behavior. \n",
    "\n",
    "In other scenarios, you may want to exclude sets which are already used in other constituents within the same rule. This is the default behavior, and so the #seq-allow-multi flag is not present:"
   ]
  },
  {
   "cell_type": "code",
   "execution_count": 9,
   "metadata": {},
   "outputs": [
    {
     "name": "stdout",
     "output_type": "stream",
     "text": [
      "['PAIR', 'PAIR', 'PAIR', 'FULL HOUSE', 'PAIR']\n"
     ]
    }
   ],
   "source": [
    "rules = [ {\"#when\": [\"A\", \"A\"], \"#then\": \"PAIR\", \"#seq-type\": \"allow-junk\" },\n",
    "          {\"#when\": [\"B\", \"B\"], \"#then\": \"PAIR\", \"#seq-type\": \"allow-junk\" },\n",
    "          {\"#when\": [\"A\", \"A\", \"A\"], \"#then\": \"THREES\", \"#seq-type\": \"allow-junk\" },\n",
    "          {\"#when\": [\"B\", \"B\", \"B\"], \"#then\": \"THREES\", \"#seq-type\": \"allow-junk\" },\n",
    "          {\"#when\": [\"THREES\", \"PAIR\"], \"#then\": \"FULL HOUSE\", \"#seq-type\": \"set\" } ]\n",
    "\n",
    "engine.clear_rules()\n",
    "engine.add_rules(rules)\n",
    "\n",
    "observations = [\"A\", \"B\", \"A\", \"B\", \"A\"]\n",
    "\n",
    "result = engine.process(observations, extract_conclusions=True)\n",
    "pprint(result)"
   ]
  },
  {
   "cell_type": "markdown",
   "metadata": {},
   "source": [
    "This only found one full house (which is what we would expect in a real game of poker, for example)."
   ]
  },
  {
   "cell_type": "markdown",
   "metadata": {},
   "source": [
    "## Summary\n",
    "\n",
    "Sets are a powerful complement to sequence-based rules, when you don't care as much about the sequential order of facts arriving, but want to look for a group of facts asserted in any order. \n",
    "\n",
    "You can control whether or not the sets allow the same underlying constituent facts to be included in multiple sets, and you can restrict that either by requiring them to by connected by position, or allowing them to be present in multiple sets in the same rule regardless of position.\n",
    "\n",
    "Next we'll see how you can build higher-order structures out of the sequence and structure rules."
   ]
  }
 ],
 "metadata": {
  "kernelspec": {
   "display_name": ".venv",
   "language": "python",
   "name": "python3"
  },
  "language_info": {
   "codemirror_mode": {
    "name": "ipython",
    "version": 3
   },
   "file_extension": ".py",
   "mimetype": "text/x-python",
   "name": "python",
   "nbconvert_exporter": "python",
   "pygments_lexer": "ipython3",
   "version": "3.11.9"
  },
  "orig_nbformat": 4
 },
 "nbformat": 4,
 "nbformat_minor": 2
}
