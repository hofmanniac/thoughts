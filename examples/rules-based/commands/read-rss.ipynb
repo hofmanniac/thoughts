{
 "cells": [
  {
   "cell_type": "markdown",
   "metadata": {},
   "source": [
    "## FetchFeed Command\n",
    "\n",
    "Reads an RSS feed and outputs it to the console at a readable rate"
   ]
  },
  {
   "cell_type": "code",
   "execution_count": null,
   "metadata": {},
   "outputs": [],
   "source": [
    "# import the thoughts rules engine\n",
    "import os, sys\n",
    "sys.path.insert(1, os.path.abspath('..\\\\..\\\\..'))\n",
    "\n",
    "from thoughts.operations.core import Context\n",
    "from thoughts.operations.rules import RulesOrchestrator\n",
    "\n",
    "rules = [\n",
    "    {\"When\": \"rss digg.top\",\n",
    "     \"Then\": [{\"FetchFeed\": \"https://digg.com/rss/top.rss\", \"into\": \"rss\"},\n",
    "              {\"Write\": {\"Item\": \"rss\", \"key\": \"title\"}}]\n",
    "    }\n",
    "]\n",
    "\n",
    "engine = RulesOrchestrator(rules)\n",
    "engine.execute(Context(), \"rss digg.top\")"
   ]
  }
 ],
 "metadata": {
  "kernelspec": {
   "display_name": ".venv",
   "language": "python",
   "name": "python3"
  },
  "language_info": {
   "codemirror_mode": {
    "name": "ipython",
    "version": 3
   },
   "file_extension": ".py",
   "mimetype": "text/x-python",
   "name": "python",
   "nbconvert_exporter": "python",
   "pygments_lexer": "ipython3",
   "version": "3.11.9"
  },
  "orig_nbformat": 4
 },
 "nbformat": 4,
 "nbformat_minor": 2
}
