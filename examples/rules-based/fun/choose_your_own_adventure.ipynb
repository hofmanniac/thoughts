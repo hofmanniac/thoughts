{
 "cells": [
  {
   "cell_type": "markdown",
   "metadata": {},
   "source": [
    "## Choose Your Own Adventure Game\n",
    "\n",
    "This sample is for a simple Choose Your Own Adventure style game. You could implement this in a console application or other user interface, so this notebook is meant to show you the \"raw\" assertion logic happening behind the scenes."
   ]
  },
  {
   "cell_type": "code",
   "execution_count": 1,
   "metadata": {},
   "outputs": [],
   "source": [
    "import os, sys\n",
    "sys.path.insert(1, os.path.abspath('..\\\\..\\\\..'))\n",
    "from thoughts.rules_engine import RulesEngine\n",
    "import pprint\n",
    "\n",
    "engine = RulesEngine()"
   ]
  },
  {
   "cell_type": "markdown",
   "metadata": {},
   "source": [
    "## Define the KB Rules (World)"
   ]
  },
  {
   "cell_type": "code",
   "execution_count": 2,
   "metadata": {},
   "outputs": [],
   "source": [
    "rules = [ \n",
    "    { \"#when\":  {\"game-event\": \"start\"},\n",
    "     \"#then\":  [{\"#output\": \"You are standing in a scary woods at night.\"},\n",
    "               {\"#output\": \"There are even scarier sounds coming from the north.\"},\n",
    "               {\"#output\": \"To go north, turn to page 15.\"},\n",
    "               {\"#output\": \"To stand there and whimper like a 3-year old, turn to page 10.\"}]\n",
    "    },\n",
    "  \n",
    "    { \"#when\":  \"10\",\n",
    "      \"#then\":  [{\"#output\": \"You cry, and cry and cry and cry.\"},\n",
    "                {\"game-event\": \"start\"}]\n",
    "     },\n",
    "\n",
    "    { \"#when\":  \"15\",\n",
    "      \"#then\":  [{\"#output\": \"North?? OK....\"},\n",
    "               {\"#output\": \"You go north (a terrible choice, btw) and run into goblins.\"},\n",
    "               {\"#output\": \"To try talking with the goblins, turn to page 32.\"},\n",
    "               {\"#output\": \"To try sneaking past the goblins, turn to page 50.\"}]\n",
    "    },\n",
    "  \n",
    "    { \"#when\":  \"32\",\n",
    "      \"#then\":  [{\"#output\": \"You try talking with the goblins.\"},\n",
    "               {\"#output\": \"Unfortunately, they do not speak your language and become murderous.\"},\n",
    "               {\"#output\": \"Roll a die to see if you escape them.\"},\n",
    "               {\"#output\": \"If you rolled a 2 or lower, #then turn to page 60.\"},\n",
    "               {\"#output\": \"If you rolled a 3 or higher #then turn to page 65.\"}]\n",
    "    },\n",
    "\n",
    "    { \"#when\":  \"50\",\n",
    "      \"#then\":  [{\"#output\": \"Your sneaky plan does not work.\"},\n",
    "                {\"#output\": \"Unfortunately, they drag you back into their lair and keep you as a pet.\"},\n",
    "                {\"#output\": \"GAME OVER\"}]\n",
    "     },\n",
    "\n",
    "     { \"#when\":  \"60\",\n",
    "       \"#then\":  [{\"#output\": \"You missed. That's extremely bad.\"},\n",
    "                {\"#output\": \"Unfortunately, they knock yout out and take all of your money.\"},\n",
    "                {\"#output\": \"GAME OVER\"}]\n",
    "     },\n",
    "\n",
    "     { \"#when\":  \"65\",\n",
    "       \"#then\":  [{\"#output\": \"Great job! You sneak past the goblins!\"},\n",
    "                {\"#output\": \"#then you went on to live happily ever after.\"},\n",
    "                {\"#output\": \"GAME OVER\"}]\n",
    "     }\n",
    "  ]\n",
    "\n",
    "engine.load_rules_from_list(rules, \"adventure-game\")"
   ]
  },
  {
   "cell_type": "markdown",
   "metadata": {},
   "source": [
    "## Start the Game\n",
    "\n",
    "Any good game has a beginning. Start the game using the initial assertion to get things going. There's nothing special here about the words \"game-event\" or \"start\", you can use any designation as long as it triggers the rules you need."
   ]
  },
  {
   "cell_type": "code",
   "execution_count": 3,
   "metadata": {},
   "outputs": [
    {
     "name": "stdout",
     "output_type": "stream",
     "text": [
      "You are standing in a scary woods at night.\n",
      "There are even scarier sounds coming from the north.\n",
      "To go north, turn to page 15.\n",
      "To stand there and whimper like a 3-year old, turn to page 10.\n"
     ]
    }
   ],
   "source": [
    "response = engine.process({\"game-event\": \"start\"})"
   ]
  },
  {
   "cell_type": "markdown",
   "metadata": {},
   "source": [
    "## Go North (Turn to Page 15)\n",
    "\n",
    "Uh oh - We ran into goblins!\n",
    "\n",
    "Go North by asserting \"15\", which will match the correponding #when rule and return the matching #then portion for that rule."
   ]
  },
  {
   "cell_type": "code",
   "execution_count": 4,
   "metadata": {},
   "outputs": [
    {
     "name": "stdout",
     "output_type": "stream",
     "text": [
      "North?? OK....\n",
      "You go north (a terrible choice, btw) and run into goblins.\n",
      "To try talking with the goblins, turn to page 32.\n",
      "To try sneaking past the goblins, turn to page 50.\n"
     ]
    }
   ],
   "source": [
    "response = engine.process(\"15\")"
   ]
  },
  {
   "cell_type": "markdown",
   "metadata": {},
   "source": [
    "## Try Talking to the Goblins (Turn to Page 32)\n",
    "\n",
    "Let's see if we can talk our way out of this. Assert \"32\" to turn to page 32."
   ]
  },
  {
   "cell_type": "code",
   "execution_count": 5,
   "metadata": {},
   "outputs": [
    {
     "name": "stdout",
     "output_type": "stream",
     "text": [
      "You try talking with the goblins.\n",
      "Unfortunately, they do not speak your language and become murderous.\n",
      "Roll a die to see if you escape them.\n",
      "If you rolled a 2 or lower, #then turn to page 60.\n",
      "If you rolled a 3 or higher #then turn to page 65.\n"
     ]
    }
   ],
   "source": [
    "response = engine.process(\"32\")"
   ]
  },
  {
   "cell_type": "markdown",
   "metadata": {},
   "source": [
    "## Roll a 2 or Lower (Turn to Page 60)\n",
    "\n",
    "Run! Roll a die to see what happens next. Let's assume we roll a 2. Assert \"60\" and check the result"
   ]
  },
  {
   "cell_type": "code",
   "execution_count": 6,
   "metadata": {},
   "outputs": [
    {
     "name": "stdout",
     "output_type": "stream",
     "text": [
      "You missed. That's extremely bad.\n",
      "Unfortunately, they knock yout out and take all of your money.\n",
      "GAME OVER\n"
     ]
    }
   ],
   "source": [
    "response = engine.process(\"60\")"
   ]
  },
  {
   "cell_type": "markdown",
   "metadata": {},
   "source": [
    "## Game Over\n",
    "\n",
    "Oh well - better luck next time! :)\n",
    "\n",
    "Modify the rules above to create your own game or try different paths through the game."
   ]
  }
 ],
 "metadata": {
  "kernelspec": {
   "display_name": ".venv",
   "language": "python",
   "name": "python3"
  },
  "language_info": {
   "codemirror_mode": {
    "name": "ipython",
    "version": 3
   },
   "file_extension": ".py",
   "mimetype": "text/x-python",
   "name": "python",
   "nbconvert_exporter": "python",
   "pygments_lexer": "ipython3",
   "version": "3.11.9"
  },
  "orig_nbformat": 4
 },
 "nbformat": 4,
 "nbformat_minor": 2
}
