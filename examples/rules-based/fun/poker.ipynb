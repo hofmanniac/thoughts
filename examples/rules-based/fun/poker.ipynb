{
 "cells": [
  {
   "cell_type": "markdown",
   "metadata": {},
   "source": [
    "## Identifying Poker Hands\n",
    "\n",
    "As it turns out, identifying poker hands is a great way to learn how sequence and set rules work. Begin by importing the standard libraries and creating a new rules engine.\n",
    "\n",
    "## ♥ ♦ ♠ ♣"
   ]
  },
  {
   "cell_type": "code",
   "execution_count": 1,
   "metadata": {},
   "outputs": [],
   "source": [
    "import os, sys\n",
    "sys.path.insert(1, os.path.abspath('..\\\\..\\\\..'))\n",
    "from thoughts.rules_engine import RulesEngine\n",
    "import pprint\n",
    "\n",
    "engine = RulesEngine()"
   ]
  },
  {
   "cell_type": "markdown",
   "metadata": {},
   "source": [
    "## High Card\n",
    "\n",
    "Detecting high cards is relatively straight forward. Since any card could be a high card* we'll simply forward the card's rank information on as a high card.\n",
    "\n",
    "Don't worry for now about picking the highest scoring one of these results. These initial rules are simply to generate candidate card rankings for all possibilities. Later we'll pick the highest scoring pattern out of the candidates.\n",
    "\n",
    "*Except for 2's, since there would always be guaranteed at least at 3 in 10 cards shared among 2 people using 2 decks, but will ignore that anomaly."
   ]
  },
  {
   "cell_type": "code",
   "execution_count": 2,
   "metadata": {},
   "outputs": [
    {
     "name": "stdout",
     "output_type": "stream",
     "text": [
      "[{'high-card': '3', 'score': 1},\n",
      " {'high-card': '5', 'score': 1},\n",
      " {'high-card': '7', 'score': 1},\n",
      " {'high-card': '9', 'score': 1},\n",
      " {'high-card': 'k', 'score': 1}]\n"
     ]
    }
   ],
   "source": [
    "# define the rule\n",
    "high_card_rule = {\"#when\": [{\"suit\": \"?suit\", \"rank\": \"?rank1\"}],\n",
    "                  \"#then\": {\"high-card\": \"?rank1\", \"score\": 1}}\n",
    "engine.add_rule(high_card_rule)\n",
    "\n",
    "# assert a hand to test the rule\n",
    "hand = [\n",
    "    {\"rank\": \"3\", \"suit\": \"spades\"}, \n",
    "    {\"rank\": \"5\", \"suit\": \"clubs\"},\n",
    "    {\"rank\": \"7\", \"suit\": \"hearts\"},\n",
    "    {\"rank\": \"9\", \"suit\": \"diamonds\"},\n",
    "    {\"rank\": \"K\", \"suit\": \"clubs\"}]\n",
    "result = engine.process(hand)\n",
    "pprint.pprint(result)"
   ]
  },
  {
   "cell_type": "markdown",
   "metadata": {},
   "source": [
    "## One Pair\n",
    "\n",
    "To detect pairs, we are interested whenever there are two cards that follow in sequence that have the same rank.\n",
    "\n",
    "In the rule below, note that the ?rank1 variable is the same between both constituents in the #when sequence. The engine will use this informtion to make sure the value of the rank in the second card matches the rank in the first card.\n",
    "\n",
    "Also note the #seq-type of \"allow-junk\" as part of the rule. This allows for extra constituents to be in-between the constituents we are looking for. Without this, the second card in the pair would have to come immediately after first card in the sequence. For example, it would detect 2♥ followed by 2♦, but not 2♥ followed by 3♠ followed by 2♦. The 3♠ is the \"junk\" consituent which is ignored whenever #seq-type is \"allow-junk\"."
   ]
  },
  {
   "cell_type": "code",
   "execution_count": 3,
   "metadata": {},
   "outputs": [
    {
     "name": "stdout",
     "output_type": "stream",
     "text": [
      "[{'high-card': 'j', 'score': 1},\n",
      " {'high-card': '3', 'score': 1},\n",
      " {'one-pair': 'j', 'score': 2},\n",
      " {'high-card': 'j', 'score': 1},\n",
      " {'high-card': '7', 'score': 1},\n",
      " {'high-card': '5', 'score': 1}]\n"
     ]
    }
   ],
   "source": [
    "# define the rule\n",
    "one_pair = {\"#when\": [{\"rank\": \"?rank1\"}, {\"rank\": \"?rank1\"}],\n",
    "            \"#seq-type\": \"allow-junk\",\n",
    "            \"#then\": {\"one-pair\": \"?rank1\", \"score\": 2}}\n",
    "engine.add_rule(one_pair)\n",
    "\n",
    "# assert a hand to test the rule\n",
    "hand = [\n",
    "    {\"rank\": \"J\", \"suit\": \"spades\"}, \n",
    "    {\"rank\": \"3\", \"suit\": \"clubs\"},\n",
    "    {\"rank\": \"J\", \"suit\": \"hearts\"},\n",
    "    {\"rank\": \"7\", \"suit\": \"diamonds\"},\n",
    "    {\"rank\": \"5\", \"suit\": \"clubs\"}]\n",
    "result = engine.process(hand)\n",
    "pprint.pprint(result, sort_dicts=False)"
   ]
  },
  {
   "cell_type": "markdown",
   "metadata": {},
   "source": [
    "## Two Pair\n",
    "\n",
    "Detecting two-pair works by matching whenever you find a single (one) pair, followed by another single (one) pair, with junk cards allowed in between.\n",
    "\n",
    "Here the ranks can be the same, but do not have to be the same. This means this rule will detect four 4's as two pairs, though we know it also be better known as four of a kind. That's OK - we'll let the engine detect the two pairs and ALSO detect the four of a kind. Technically, that's an accurate identification the allowed patterns. In general it's better for the engine to over-generate matches as possible \"ideas\", and then let another set of rules filter these down into the correct conclusion based on some other criteria."
   ]
  },
  {
   "cell_type": "code",
   "execution_count": 4,
   "metadata": {},
   "outputs": [
    {
     "name": "stdout",
     "output_type": "stream",
     "text": [
      "[{'high-card': 'j', 'score': 1},\n",
      " {'one-pair': 'j', 'score': 2},\n",
      " {'high-card': 'j', 'score': 1},\n",
      " {'high-card': '7', 'score': 1},\n",
      " {'high-card': '3', 'score': 1},\n",
      " {'two-pair': {'pair1': 'j', 'pair2': '7'}, 'score': 3},\n",
      " {'high-card': '7', 'score': 1}]\n"
     ]
    }
   ],
   "source": [
    "# add the rule\n",
    "rule = {\"#when\": [{\"one-pair\": \"?rank1\"}, {\"one-pair\": \"?rank2\"}],\n",
    "    \"#seq-type\": \"allow-junk\",\n",
    "     \"#then\": {\"two-pair\": {\"pair1\": \"?rank1\", \"pair2\": \"?rank2\"}, \"score\": 3}}\n",
    "engine.add_rule(rule)\n",
    "\n",
    "# test it\n",
    "hand = [\n",
    "    {\"rank\": \"J\", \"suit\": \"spades\"}, \n",
    "    {\"rank\": \"J\", \"suit\": \"spades\"},\n",
    "    {\"rank\": \"7\", \"suit\": \"hearts\"},\n",
    "    {\"rank\": \"3\", \"suit\": \"clubs\"},\n",
    "    {\"rank\": \"7\", \"suit\": \"hearts\"}\n",
    "]\n",
    "result = engine.process(hand, extract_conclusions=True)\n",
    "pprint.pprint(result, sort_dicts=False)"
   ]
  },
  {
   "cell_type": "markdown",
   "metadata": {},
   "source": [
    "## Three of a Kind\n",
    "\n",
    "Three of a Kind works similiar to the one-pair and two-pair rules. Look for a sequence of three cards with the same rank, and allow junk cards in between."
   ]
  },
  {
   "cell_type": "code",
   "execution_count": 5,
   "metadata": {},
   "outputs": [
    {
     "name": "stdout",
     "output_type": "stream",
     "text": [
      "[{'high-card': 'j', 'score': 1},\n",
      " {'one-pair': 'j', 'score': 2},\n",
      " {'high-card': 'j', 'score': 1},\n",
      " {'high-card': '3', 'score': 1},\n",
      " {'one-pair': 'j', 'score': 2},\n",
      " {'three-of-a-kind': 'j', 'score': 4},\n",
      " {'one-pair': 'j', 'score': 2},\n",
      " {'high-card': 'j', 'score': 1},\n",
      " {'high-card': '7', 'score': 1}]\n"
     ]
    }
   ],
   "source": [
    "# add the rule\n",
    "rule = {\"#when\": [{\"rank\": \"?rank1\"}, {\"rank\": \"?rank1\"}, {\"rank\": \"?rank1\"}], \n",
    "        \"#seq-type\": \"allow-junk\",\n",
    "        \"#name\": \"Three of a Kind\", \"#then\": {\"three-of-a-kind\": \"?rank1\", \"score\": 4}}\n",
    "engine.add_rule(rule)\n",
    "\n",
    "# test it\n",
    "hand = [\n",
    "    {\"rank\": \"J\", \"suit\": \"spades\"}, \n",
    "    {\"rank\": \"J\", \"suit\": \"hearts\"},\n",
    "    {\"rank\": \"3\", \"suit\": \"clubs\"},\n",
    "    {\"rank\": \"J\", \"suit\": \"diamonds\"},\n",
    "    {\"rank\": \"7\", \"suit\": \"clubs\"}]\n",
    "    \n",
    "result = engine.process(hand, extract_conclusions=True)\n",
    "pprint.pprint(result, sort_dicts=False)"
   ]
  },
  {
   "cell_type": "markdown",
   "metadata": {},
   "source": [
    "## Straight\n",
    "\n",
    "With a straight, things get more interesting. We need to detect whenever we have 5 cards in a sequence, where each card is one rank higher than the card before it.\n",
    "\n",
    "We can do this by first detecting the \"mini-runs\", where there is one card which is one higher than the card before it. Then we'll look for a number of mini-runs with are connected by the ending and beginning card.\n",
    "\n",
    "To allow for this type of overlap in sequence, where the ending of one constituent can be the beginning of the next constituent, we set the #seq-type to \"overlap-connected\"."
   ]
  },
  {
   "cell_type": "code",
   "execution_count": 6,
   "metadata": {},
   "outputs": [
    {
     "name": "stdout",
     "output_type": "stream",
     "text": [
      "[{'high-card': '3', 'score': 1},\n",
      " {'mini-run': '4'},\n",
      " {'high-card': '4', 'score': 1},\n",
      " {'mini-run': '5'},\n",
      " {'high-card': '5', 'score': 1},\n",
      " {'mini-run': '6'},\n",
      " {'high-card': '6', 'score': 1},\n",
      " {'straight': '7', 'score': 5},\n",
      " {'high-card': '7', 'score': 1}]\n"
     ]
    }
   ],
   "source": [
    "rules = [\n",
    "\n",
    "    {\"#when\": [{\"rank\": \"2\"}, {\"rank\": \"3\"}],\n",
    "     \"#then\": {\"mini-run\": \"3\"}},\n",
    "\n",
    "    {\"#when\": [{\"rank\": \"3\"}, {\"rank\": \"4\"}],\n",
    "        \"#then\": {\"mini-run\": \"4\"}},\n",
    "\n",
    "    {\"#when\": [{\"rank\": \"4\"}, {\"rank\": \"5\"}],\n",
    "        \"#then\": {\"mini-run\": \"5\"}},\n",
    "\n",
    "    {\"#when\": [{\"rank\": \"5\"}, {\"rank\": \"6\"}],\n",
    "        \"#then\": {\"mini-run\": \"6\"}},\n",
    "\n",
    "    {\"#when\": [{\"rank\": \"6\"}, {\"rank\": \"7\"}],\n",
    "        \"#then\": {\"mini-run\": \"7\"}},\n",
    "\n",
    "    {\"#when\": [{\"rank\": \"7\"}, {\"rank\": \"8\"}],\n",
    "        \"#then\": {\"mini-run\": \"8\"}},\n",
    "\n",
    "    {\"#when\": [{\"rank\": \"8\"}, {\"rank\": \"9\"}],\n",
    "        \"#then\": {\"mini-run\": \"9\"}},\n",
    "\n",
    "    {\"#when\": [{\"rank\": \"9\"}, {\"rank\": \"10\"}],\n",
    "        \"#then\": {\"mini-run\": \"10\"}},\n",
    "\n",
    "    {\"#when\": [{\"rank\": \"10\"}, {\"rank\": \"J\"}],\n",
    "        \"#then\": {\"mini-run\": \"J\"}},\n",
    "\n",
    "    {\"#when\": [{\"rank\": \"J\"}, {\"rank\": \"Q\"}],\n",
    "        \"#then\": {\"mini-run\": \"Q\"}},\n",
    "\n",
    "    {\"#when\": [{\"rank\": \"Q\"}, {\"rank\": \"K\"}],\n",
    "        \"#then\": {\"mini-run\": \"K\"}},\n",
    "\n",
    "    {\"#when\": [{\"rank\": \"K\"}, {\"rank\": \"A\"}],\n",
    "        \"#then\": {\"mini-run\": \"A\"}},\n",
    "\n",
    "    {\"#when\": [{\"mini-run\": \"?run1\"}, {\"mini-run\": \"?run2\"}, {\"mini-run\": \"?run3\"}, {\"mini-run\": \"?run4\"}],\n",
    "    \"#seq-type\": \"overlap-connected\",\n",
    "        \"#then\": {\"straight\": \"?run4\", \"score\": 5}}\n",
    "]\n",
    "engine.add_rules(rules)\n",
    "\n",
    "hand = [\n",
    "    {\"rank\": \"3\", \"suit\": \"spades\"}, \n",
    "    {\"rank\": \"4\", \"suit\": \"hearts\"},\n",
    "    {\"rank\": \"5\", \"suit\": \"diamonds\"},\n",
    "    {\"rank\": \"6\", \"suit\": \"clubs\"},\n",
    "    {\"rank\": \"7\", \"suit\": \"spades\"}]\n",
    "    \n",
    "result = engine.process(hand, extract_conclusions=True)\n",
    "pprint.pprint(result, sort_dicts=False)"
   ]
  },
  {
   "cell_type": "markdown",
   "metadata": {},
   "source": [
    "## Flush\n",
    "\n",
    "A flush is quite a bit easier. Similiar to the pair rule, we need to detect 5 cards in sequence which are share the same suit.\n",
    "\n",
    "We do this by using the same ?suit1 variable in all five consituents in the pattern."
   ]
  },
  {
   "cell_type": "code",
   "execution_count": 7,
   "metadata": {},
   "outputs": [
    {
     "name": "stdout",
     "output_type": "stream",
     "text": [
      "[{'high-card': '3', 'score': 1},\n",
      " {'high-card': '5', 'score': 1},\n",
      " {'high-card': '7', 'score': 1},\n",
      " {'high-card': '9', 'score': 1},\n",
      " {'flush': 'spades', 'score': 6},\n",
      " {'high-card': 'j', 'score': 1}]\n"
     ]
    }
   ],
   "source": [
    "rule = {\"#when\": [{\"suit\": \"?suit1\"}, {\"suit\": \"?suit1\"}, {\"suit\": \"?suit1\"}, {\"suit\": \"?suit1\"}, {\"suit\": \"?suit1\"}],\n",
    "     \"#then\": {\"flush\": \"?suit1\", \"score\": 6}}\n",
    "engine.add_rule(rule)\n",
    "\n",
    "hand = [\n",
    "    {\"rank\": \"3\", \"suit\": \"spades\"}, \n",
    "    {\"rank\": \"5\", \"suit\": \"spades\"},\n",
    "    {\"rank\": \"7\", \"suit\": \"spades\"},\n",
    "    {\"rank\": \"9\", \"suit\": \"spades\"},\n",
    "    {\"rank\": \"J\", \"suit\": \"spades\"}]\n",
    "result = engine.process(hand, extract_conclusions=True)\n",
    "pprint.pprint(result, sort_dicts=False)"
   ]
  },
  {
   "cell_type": "markdown",
   "metadata": {},
   "source": [
    "## Full House\n",
    "\n",
    "A full house sounds trivial at first, but there's a catch. The cards can be arranged either with the three of a kind going first and the pair going second; the pair going first and the three of a kind going second; or the cards interlaced so that the pair is hiding in the middle of the three of a kind!\n",
    "\n",
    "For this scenario, rather than look for a sequence of cards in order, we'll look for a \"set\", which means the cards can be arranged in any order, as long as the constituents do not contain any sub-constituents of each other. Fortunately the engine has an easy way to handle this, by setting the #seq-type to \"set\"."
   ]
  },
  {
   "cell_type": "code",
   "execution_count": 8,
   "metadata": {},
   "outputs": [
    {
     "name": "stdout",
     "output_type": "stream",
     "text": [
      "[{'high-card': '3', 'score': 1},\n",
      " {'high-card': '7', 'score': 1},\n",
      " {'one-pair': '3', 'score': 2},\n",
      " {'high-card': '3', 'score': 1},\n",
      " {'one-pair': '7', 'score': 2},\n",
      " {'high-card': '7', 'score': 1},\n",
      " {'one-pair': '3', 'score': 2},\n",
      " {'full-house': {'three-of-a-kind': '3', 'one-pair': '7'}, 'score': 7},\n",
      " {'one-pair': '3', 'score': 2},\n",
      " {'high-card': '3', 'score': 1}]\n"
     ]
    }
   ],
   "source": [
    "rule = {\"#when\": [{\"three-of-a-kind\": \"?rank1\"}, {\"one-pair\": \"?rank2\"}],\n",
    "        \"#seq-type\": \"set\",\n",
    "        \"#then\": {\"full-house\": {\"three-of-a-kind\": \"?rank1\", \"one-pair\": \"?rank2\"}, \"score\": 7}}\n",
    "engine.add_rule(rule)\n",
    "\n",
    "hand = [\n",
    "    {\"rank\": \"3\", \"suit\": \"spades\"}, \n",
    "    {\"rank\": \"7\", \"suit\": \"spades\"},\n",
    "    {\"rank\": \"3\", \"suit\": \"hearts\"},\n",
    "    {\"rank\": \"7\", \"suit\": \"hearts\"},\n",
    "    {\"rank\": \"3\", \"suit\": \"diamonds\"}]\n",
    "result = engine.process(hand, extract_conclusions=True)\n",
    "pprint.pprint(result, sort_dicts=False)"
   ]
  },
  {
   "cell_type": "markdown",
   "metadata": {},
   "source": [
    "## Four of a Kind\n",
    "\n",
    "A four of a kind returns to normalcy - just detect four cards that have the same rank, and allow for junk cards in between constituents.\n",
    "\n",
    "Notice that the engine detects quite a bit of other patterns here too! That's OK, it is detecting legal sequences based on the previous rules. Just like in real poker, you can look at the cards in your hand in different ways, with the goal of picking the *highest* ranking arrangement in your hand."
   ]
  },
  {
   "cell_type": "code",
   "execution_count": 9,
   "metadata": {},
   "outputs": [
    {
     "name": "stdout",
     "output_type": "stream",
     "text": [
      "[{'high-card': '3', 'score': 1},\n",
      " {'one-pair': '3', 'score': 2},\n",
      " {'high-card': '3', 'score': 1},\n",
      " {'one-pair': '3', 'score': 2},\n",
      " {'three-of-a-kind': '3', 'score': 4},\n",
      " {'one-pair': '3', 'score': 2},\n",
      " {'high-card': '3', 'score': 1},\n",
      " {'high-card': '7', 'score': 1},\n",
      " {'one-pair': '3', 'score': 2},\n",
      " {'three-of-a-kind': '3', 'score': 4},\n",
      " {'one-pair': '3', 'score': 2},\n",
      " {'three-of-a-kind': '3', 'score': 4},\n",
      " {'four-of-a-kind': '3', 'score': 8},\n",
      " {'three-of-a-kind': '3', 'score': 4},\n",
      " {'two-pair': {'pair1': '3', 'pair2': '3'}, 'score': 3},\n",
      " {'high-card': '3', 'score': 1}]\n"
     ]
    }
   ],
   "source": [
    "rule = {\"#when\": [{\"rank\": \"?rank1\"}, {\"rank\": \"?rank1\"}, {\"rank\": \"?rank1\"}, {\"rank\": \"?rank1\"}],\n",
    "        \"#seq-type\": \"allow-junk\",\n",
    "        \"#then\": {\"four-of-a-kind\": \"?rank1\", \"score\": 8}}\n",
    "engine.add_rule(rule)\n",
    "\n",
    "hand = [\n",
    "    {\"rank\": \"3\", \"suit\": \"spades\"}, \n",
    "    {\"rank\": \"3\", \"suit\": \"clubs\"},\n",
    "    {\"rank\": \"3\", \"suit\": \"hearts\"},\n",
    "    {\"rank\": \"7\", \"suit\": \"hearts\"},\n",
    "    {\"rank\": \"3\", \"suit\": \"diamonds\"}]\n",
    "result = engine.process(hand, extract_conclusions=True)\n",
    "pprint.pprint(result, sort_dicts=False)"
   ]
  },
  {
   "cell_type": "markdown",
   "metadata": {},
   "source": [
    "## Straight Flush\n",
    "\n",
    "Detecting straight flushes presents a challenge. We want to detect whenever the arrangement of cards matches both a straight *and* and flush, and the members in both sets can overlap.\n",
    "\n",
    "At first it's tempting to use the #seq-type = \"set\" option above, which gets us part of the way there. However, by default this option does not allow the constituents to contain members that are already in other constituents in the pattern, and so would fail by itself.\n",
    "\n",
    "We can relax this option, so that the matching *will* allow constituents to share members, by using the #seq-allow-multi option. In this way the straight can contain members from the flush, and vice-versa."
   ]
  },
  {
   "cell_type": "code",
   "execution_count": 10,
   "metadata": {},
   "outputs": [
    {
     "name": "stdout",
     "output_type": "stream",
     "text": [
      "[{'high-card': '3', 'score': 1},\n",
      " {'mini-run': '4'},\n",
      " {'high-card': '4', 'score': 1},\n",
      " {'mini-run': '5'},\n",
      " {'high-card': '5', 'score': 1},\n",
      " {'mini-run': '6'},\n",
      " {'high-card': '6', 'score': 1},\n",
      " {'flush': 'spades', 'score': 6},\n",
      " {'straight-flush': 'spades', 'rank': '7', 'score': 9},\n",
      " {'high-card': '7', 'score': 1}]\n"
     ]
    }
   ],
   "source": [
    "rule = {\"#when\": [{\"straight\": \"?rank\"}, {\"flush\": \"?suit\"}],\n",
    "    \"#seq-type\": \"set\",\n",
    "    \"#seq-allow-multi\": True,\n",
    "     \"#then\": {\"straight-flush\": \"?suit\", \"rank\": \"?rank\", \"score\": 9}}\n",
    "engine.add_rule(rule)\n",
    "\n",
    "hand = [\n",
    "    {\"rank\": \"3\", \"suit\": \"spades\"}, \n",
    "    {\"rank\": \"4\", \"suit\": \"spades\"},\n",
    "    {\"rank\": \"5\", \"suit\": \"spades\"},\n",
    "    {\"rank\": \"6\", \"suit\": \"spades\"},\n",
    "    {\"rank\": \"7\", \"suit\": \"spades\"}]\n",
    "result = engine.process(hand, extract_conclusions=True)\n",
    "pprint.pprint(result, sort_dicts=False)"
   ]
  },
  {
   "cell_type": "markdown",
   "metadata": {},
   "source": [
    "## Royal Flush\n",
    "\n",
    "Ah, the infamous royal flush. This turns out to be a special case of the straight flush rule, where the rank of the straight is an ace.\n",
    "\n",
    "Easy enough:"
   ]
  },
  {
   "cell_type": "code",
   "execution_count": 11,
   "metadata": {},
   "outputs": [
    {
     "name": "stdout",
     "output_type": "stream",
     "text": [
      "[{'high-card': '10', 'score': 1},\n",
      " {'mini-run': 'J'},\n",
      " {'high-card': 'j', 'score': 1},\n",
      " {'mini-run': 'Q'},\n",
      " {'high-card': 'q', 'score': 1},\n",
      " {'mini-run': 'K'},\n",
      " {'high-card': 'k', 'score': 1},\n",
      " {'flush': 'hearts', 'score': 6},\n",
      " {'royal-flush': 'hearts', 'score': 10},\n",
      " {'high-card': 'a', 'score': 1}]\n"
     ]
    }
   ],
   "source": [
    "rule = {\"#when\": [{\"straight-flush\": \"?suit\", \"rank\": \"A\"}],\n",
    "        \"#then\": {\"royal-flush\": \"?suit\", \"score\": 10}}\n",
    "engine.add_rule(rule)\n",
    "\n",
    "hand = [\n",
    "    {\"rank\": \"10\", \"suit\": \"hearts\"}, \n",
    "    {\"rank\": \"J\", \"suit\": \"hearts\"},\n",
    "    {\"rank\": \"Q\", \"suit\": \"hearts\"},\n",
    "    {\"rank\": \"K\", \"suit\": \"hearts\"},\n",
    "    {\"rank\": \"A\", \"suit\": \"hearts\"}]\n",
    "result = engine.process(hand, extract_conclusions=True)\n",
    "pprint.pprint(result, sort_dicts=False)"
   ]
  },
  {
   "cell_type": "markdown",
   "metadata": {},
   "source": [
    "## Choosing the Highest Scoring Arrangement\n",
    "\n",
    "Choosing the highest scoring arrangment is a matter of picking out the conclusion with the highest score.\n",
    "\n",
    "Let's try it on a sample hand we used previously."
   ]
  },
  {
   "cell_type": "code",
   "execution_count": 12,
   "metadata": {},
   "outputs": [
    {
     "name": "stdout",
     "output_type": "stream",
     "text": [
      "BEST RANKING: {'straight-flush': 'spades', 'rank': '7', 'score': 9}\n"
     ]
    }
   ],
   "source": [
    "hand = [\n",
    "    {\"rank\": \"3\", \"suit\": \"spades\"}, \n",
    "    {\"rank\": \"4\", \"suit\": \"spades\"},\n",
    "    {\"rank\": \"5\", \"suit\": \"spades\"},\n",
    "    {\"rank\": \"6\", \"suit\": \"spades\"},\n",
    "    {\"rank\": \"7\", \"suit\": \"spades\"}]\n",
    "result = engine.process(hand, extract_conclusions=True)\n",
    "# pprint.pprint(result, sort_dicts=False)\n",
    "\n",
    "max_score = max(filter(lambda x: \"score\" in x, result), key=lambda x: x['score'])\n",
    "print(\"BEST RANKING:\", max_score)"
   ]
  },
  {
   "cell_type": "markdown",
   "metadata": {},
   "source": [
    "## Conclusion\n",
    "\n",
    "Detecting poker hands illustrates many of the concepts in sequence and set detection. Hopefully you found it as a fun way to learn how the engine can help with this kind of scenario."
   ]
  }
 ],
 "metadata": {
  "kernelspec": {
   "display_name": ".venv",
   "language": "python",
   "name": "python3"
  },
  "language_info": {
   "codemirror_mode": {
    "name": "ipython",
    "version": 3
   },
   "file_extension": ".py",
   "mimetype": "text/x-python",
   "name": "python",
   "nbconvert_exporter": "python",
   "pygments_lexer": "ipython3",
   "version": "3.11.9"
  },
  "orig_nbformat": 4
 },
 "nbformat": 4,
 "nbformat_minor": 2
}
