{
 "cells": [
  {
   "cell_type": "markdown",
   "metadata": {},
   "source": [
    "## Winograd Schema Example\n",
    "\n",
    "From - https://cs.nyu.edu/faculty/davise/papers/WinogradSchemas/WSCollection.xml\n",
    "\n",
    "This is a sample of how the engine can solve for specific cases of the Winograd Schema Challenge."
   ]
  },
  {
   "cell_type": "code",
   "execution_count": 1,
   "metadata": {},
   "outputs": [],
   "source": [
    "import os, sys\n",
    "sys.path.insert(1, os.path.abspath('..\\\\..'))\n",
    "\n",
    "from thoughts.rules_engine import RulesEngine\n",
    "import thoughts.unification\n",
    "import pprint\n",
    "\n",
    "engine = RulesEngine()"
   ]
  },
  {
   "cell_type": "markdown",
   "metadata": {},
   "source": [
    "## Define the KB Rules\n",
    "\n",
    "Define the knowledge base rules. These are a series of #when / #then rules that allow for wildcard matching. As rules and wilcards are matched in the #when portion, then #then portion is fired, which can cause additioanl rules to fire until no more matches occur.\n",
    "\n",
    "For the Winograd Schema Challenge, the first rule will extract the premise from the incoming text assertion. Then the second rule will enhance the information that when an entity does not fit inside another entity, then the first entity is too large and the second entity is too small.\n",
    "\n",
    "Note that we wrap the first rule inside of a \"parse\" tag.  This is to prevent the second rule from matching against the initial incoming assertion. Think of the first rule as a rule that will handle the natural language parsing, and the second rule as the internal logic / knowledge base of facts about the world. There is no special signifigance of \"parse\" to the engine."
   ]
  },
  {
   "cell_type": "code",
   "execution_count": 2,
   "metadata": {},
   "outputs": [],
   "source": [
    "rules = [\n",
    "\n",
    "    { \"#when\": {\"parse\": \"?x because ?y\"}, \n",
    "      \"#then\": [\"?x\"]},\n",
    "\n",
    "    { \"#when\": \"?x doesn't fit inside ?y\",\n",
    "      \"#then\": [\"?x is too large\",\n",
    "               \"?y is too small\"]\n",
    "    }\n",
    "  ]\n",
    "\n",
    "engine.load_rules_from_list(rules, \"winograd-1\")"
   ]
  },
  {
   "cell_type": "markdown",
   "metadata": {},
   "source": [
    "## Assert the Premise\n",
    "\n",
    "Define the premise and assert it. This will find all matching rules and continue to process matching rules, returning any conclusions that were genereated during the process."
   ]
  },
  {
   "cell_type": "code",
   "execution_count": 3,
   "metadata": {},
   "outputs": [
    {
     "name": "stdout",
     "output_type": "stream",
     "text": [
      "Conclusions:\n",
      "[\"the lamp doesn't fit inside the suitcase\",\n",
      " 'the lamp is too large',\n",
      " 'the suitcase is too small']\n"
     ]
    }
   ],
   "source": [
    "premise = \"the lamp doesn't fit inside the suitcase because it is too large\"\n",
    "conclusions = engine.process({\"parse\": premise})\n",
    "print(\"Conclusions:\")\n",
    "pprint.pprint(conclusions)"
   ]
  },
  {
   "cell_type": "markdown",
   "metadata": {},
   "source": [
    "## Query the Conclusions\n",
    "\n",
    "Now answer questions by querying the conclusions for a match. In this Winograd Schema Challenge example, the question is asked what the \"it\" refers to. It can be represented as a wildcard, ?x, and matched against the conclusions that were previous generated."
   ]
  },
  {
   "cell_type": "code",
   "execution_count": 4,
   "metadata": {},
   "outputs": [
    {
     "name": "stdout",
     "output_type": "stream",
     "text": [
      "Answer to '?x is too large':\n",
      "[{'?x': 'the lamp'}]\n"
     ]
    }
   ],
   "source": [
    "question = \"?x is too large\"\n",
    "answers = thoughts.unification.unify_item_with_list(question, conclusions)\n",
    "print(\"Answer to '{0}':\".format(question))\n",
    "pprint.pprint(answers)"
   ]
  },
  {
   "cell_type": "markdown",
   "metadata": {},
   "source": [
    "## Another Query Example\n",
    "\n",
    "Another example identified the other possible referent for \"it\"."
   ]
  },
  {
   "cell_type": "code",
   "execution_count": 5,
   "metadata": {},
   "outputs": [
    {
     "name": "stdout",
     "output_type": "stream",
     "text": [
      "Answer to '?x is too small':\n",
      "[{'?x': 'the suitcase'}]\n"
     ]
    }
   ],
   "source": [
    "question = \"?x is too small\"\n",
    "answers = thoughts.unification.unify_item_with_list(question, conclusions)\n",
    "print(\"Answer to '{0}':\".format(question))\n",
    "pprint.pprint(answers)"
   ]
  }
 ],
 "metadata": {
  "interpreter": {
   "hash": "2131daa06b04808fa66558f781445fffc86a65c38e9ddc639756511472fbc9cd"
  },
  "kernelspec": {
   "display_name": "Python 3.8.5 64-bit ('thoughts-dev': conda)",
   "language": "python",
   "name": "python3"
  },
  "language_info": {
   "codemirror_mode": {
    "name": "ipython",
    "version": 3
   },
   "file_extension": ".py",
   "mimetype": "text/x-python",
   "name": "python",
   "nbconvert_exporter": "python",
   "pygments_lexer": "ipython3",
   "version": "3.8.5"
  },
  "orig_nbformat": 4
 },
 "nbformat": 4,
 "nbformat_minor": 2
}
