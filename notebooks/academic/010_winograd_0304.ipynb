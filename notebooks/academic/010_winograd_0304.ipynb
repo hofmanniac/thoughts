{
 "cells": [
  {
   "cell_type": "markdown",
   "metadata": {},
   "source": [
    "## Winograd Schema with Deeper Semantics\n",
    "\n",
    "This sample builds on the earlier Winograd Schema examples but adds a deeper semantic parsing technique, to construct an item and add attributes to it.\n",
    "\n",
    "As usual, fire up the engine."
   ]
  },
  {
   "cell_type": "code",
   "execution_count": 1,
   "metadata": {},
   "outputs": [],
   "source": [
    "import os, sys\n",
    "sys.path.insert(1, os.path.abspath('..\\\\..'))\n",
    "\n",
    "from thoughts.rules_engine import RulesEngine\n",
    "import pprint\n",
    "\n",
    "engine = RulesEngine()"
   ]
  },
  {
   "cell_type": "markdown",
   "metadata": {},
   "source": [
    "## Define Your Rules\n",
    "\n",
    "The initial rules are the same as the simpler Winograd Schema examples. \n",
    "\n",
    "Note there is a new rule to detect \"?x is to ?quality\", which will construct an item to track this quality about ?x."
   ]
  },
  {
   "cell_type": "code",
   "execution_count": 2,
   "metadata": {},
   "outputs": [],
   "source": [
    "rules = [\n",
    "  {\n",
    "    \"#when\": { \"parse\": \"?effect because ?cause\" },\n",
    "    \"#then\": [\"?effect\"]\n",
    "  },\n",
    "\n",
    "  {\n",
    "    \"#when\": \"?x doesn't fit inside ?y\",\n",
    "    \"#then\": [\"?x is too large\", \"?y is too small\"]\n",
    "  },\n",
    "\n",
    "  {\n",
    "    \"#when\": \"?x is too ?quality\",\n",
    "    \"#then\": [ {\"#store\": { \"is\": { \"quality\": \"?quality\", \"degree\": \"excessive\" } }, \n",
    "                \"#into\": \"?x\" }\n",
    "    ]\n",
    "  },\n",
    "\n",
    "  {\n",
    "    \"#when\": { \"parse\": \"what was too ?quality\" },\n",
    "    \"#then\": [{\"#lookup\": { \"is\": { \"quality\": \"?quality\", \"degree\": \"excessive\" } }, \"#into\": \"?answer\" },\n",
    "              {\"#output\": \"?answer.item is too ?quality\"}\n",
    "    ]\n",
    "  }\n",
    "]\n",
    "\n",
    "engine.load_rules_from_list(rules, \"winograd-1\")"
   ]
  },
  {
   "cell_type": "markdown",
   "metadata": {},
   "source": [
    "## Assert the Premise\n",
    "\n",
    "When the engine runs the \"?x is too ?quality\" rule actually fires twice - once for the lamp being too large and once for the suitcase being too small. The end result is two items in memory."
   ]
  },
  {
   "cell_type": "code",
   "execution_count": 3,
   "metadata": {},
   "outputs": [
    {
     "name": "stdout",
     "output_type": "stream",
     "text": [
      "Conclusions:\n",
      "[\"the lamp doesn't fit inside the suitcase\",\n",
      " 'the lamp is too large',\n",
      " 'the suitcase is too small',\n",
      " {'#into': 'the lamp',\n",
      "  '#store': {'is': {'degree': 'excessive', 'quality': 'large'}}},\n",
      " {'#into': 'the suitcase',\n",
      "  '#store': {'is': {'degree': 'excessive', 'quality': 'small'}}}]\n"
     ]
    }
   ],
   "source": [
    "premise = \"the lamp doesn't fit inside the suitcase because it is too large\"\n",
    "conclusions = engine.process({\"parse\": premise})\n",
    "print(\"Conclusions:\")\n",
    "pprint.pprint(conclusions)"
   ]
  },
  {
   "cell_type": "markdown",
   "metadata": {},
   "source": [
    "Then if a question is asserted, \"what was too ?quality\", this information is retrieved via the #lookup command and asserted. That assertion triggers the last rule, to output this information back."
   ]
  },
  {
   "cell_type": "code",
   "execution_count": 4,
   "metadata": {},
   "outputs": [
    {
     "name": "stdout",
     "output_type": "stream",
     "text": [
      "the lamp is too large\n"
     ]
    }
   ],
   "source": [
    "question = \"what was too large\"\n",
    "result = engine.process({\"parse\": question})"
   ]
  }
 ],
 "metadata": {
  "interpreter": {
   "hash": "2131daa06b04808fa66558f781445fffc86a65c38e9ddc639756511472fbc9cd"
  },
  "kernelspec": {
   "display_name": "Python 3.8.5 64-bit ('thoughts-dev': conda)",
   "language": "python",
   "name": "python3"
  },
  "language_info": {
   "codemirror_mode": {
    "name": "ipython",
    "version": 3
   },
   "file_extension": ".py",
   "mimetype": "text/x-python",
   "name": "python",
   "nbconvert_exporter": "python",
   "pygments_lexer": "ipython3",
   "version": "3.8.5"
  },
  "orig_nbformat": 4
 },
 "nbformat": 4,
 "nbformat_minor": 2
}
