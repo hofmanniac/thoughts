{
 "cells": [
  {
   "cell_type": "code",
   "execution_count": 1,
   "metadata": {},
   "outputs": [],
   "source": [
    "# import the thoughts rules engine\n",
    "import os, sys\n",
    "sys.path.insert(1, os.path.abspath('..\\\\..'))\n",
    "from thoughts.rules_engine import RulesEngine\n",
    "import pprint\n",
    "\n",
    "engine = RulesEngine()"
   ]
  },
  {
   "cell_type": "code",
   "execution_count": 2,
   "metadata": {},
   "outputs": [
    {
     "name": "stdout",
     "output_type": "stream",
     "text": [
      "{'$prediction': 'rain possible'}\n",
      "{'$prediction': 'snow possible'}\n"
     ]
    }
   ],
   "source": [
    "rules = [\n",
    "    \n",
    "  { \"#when\": \"cloudy\", \"#then\": \"rain possible\" },\n",
    "  { \"#when\": \"cold\", \"#then\": \"snow possible\" },\n",
    "\n",
    "  {\n",
    "    \"#when\": \"predict weather when ?condition\",\n",
    "    \"#then\": [\n",
    "      { \"#assert\": \"?condition\", \"#into\": \"$prediction\" },\n",
    "    ]\n",
    "  }\n",
    "]\n",
    "\n",
    "engine.add_rules(rules)\n",
    "\n",
    "engine.process(\"predict weather when cloudy\")\n",
    "pprint.pprint(engine.context.items)\n",
    "\n",
    "engine.process(\"predict weather when cold\")\n",
    "pprint.pprint(engine.context.items)"
   ]
  },
  {
   "cell_type": "code",
   "execution_count": null,
   "metadata": {},
   "outputs": [],
   "source": [
    "rule = {\n",
    "    \"#when\": \"it's ?condition today\",\n",
    "    \"#then\": \"predict weather when ?condition\"\n",
    "}\n",
    "\n",
    "engine.add_rule(rule)\n",
    "\n",
    "engine.process(\"it's cold today\")\n",
    "pprint.pprint(engine.context.items)"
   ]
  }
 ],
 "metadata": {
  "interpreter": {
   "hash": "2131daa06b04808fa66558f781445fffc86a65c38e9ddc639756511472fbc9cd"
  },
  "kernelspec": {
   "display_name": "Python 3.8.5 64-bit ('thoughts-dev': conda)",
   "language": "python",
   "name": "python3"
  },
  "language_info": {
   "codemirror_mode": {
    "name": "ipython",
    "version": 3
   },
   "file_extension": ".py",
   "mimetype": "text/x-python",
   "name": "python",
   "nbconvert_exporter": "python",
   "pygments_lexer": "ipython3",
   "version": "3.8.5"
  },
  "orig_nbformat": 4
 },
 "nbformat": 4,
 "nbformat_minor": 2
}
