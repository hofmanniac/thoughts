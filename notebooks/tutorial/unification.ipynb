{
 "cells": [
  {
   "cell_type": "markdown",
   "metadata": {},
   "source": [
    "## Unification\n",
    "\n",
    "Unifiication determines if assertions match rules, and if so, what variable subsitutions are needed to get them to match. This is a key concept to understand and powerful once you get the hang of it. Let's go through a few examples.\n",
    "\n",
    "For these examples, we only need the unification functions and not the full engine."
   ]
  },
  {
   "cell_type": "code",
   "execution_count": 1,
   "metadata": {},
   "outputs": [],
   "source": [
    "import os, sys\n",
    "sys.path.insert(1, os.path.abspath('..\\\\..'))\n",
    "import thoughts.unification\n",
    "import pprint"
   ]
  },
  {
   "cell_type": "markdown",
   "metadata": {},
   "source": [
    "## Exact Text Match\n",
    "\n",
    "The most basic example of unification is when a text string directly matches another text string. Note that the result is an empty dict, meaning that it found no conflicts, but also found no subsitutions required in order to unify these two terms."
   ]
  },
  {
   "cell_type": "code",
   "execution_count": 2,
   "metadata": {},
   "outputs": [
    {
     "name": "stdout",
     "output_type": "stream",
     "text": [
      "{}\n"
     ]
    }
   ],
   "source": [
    "unification = thoughts.unification.unify_strings(\"hello\", \"hello\")\n",
    "pprint.pprint(unification)"
   ]
  },
  {
   "cell_type": "markdown",
   "metadata": {},
   "source": [
    "## Text Does Not Match\n",
    "\n",
    "If the strings are unable to unify (do not match), then the function will return a None, indicating a NULL intersection of these two terms."
   ]
  },
  {
   "cell_type": "code",
   "execution_count": 3,
   "metadata": {},
   "outputs": [
    {
     "name": "stdout",
     "output_type": "stream",
     "text": [
      "None\n"
     ]
    }
   ],
   "source": [
    "unification = thoughts.unification.unify_strings(\"hello\", \"hi\")\n",
    "pprint.pprint(unification)"
   ]
  },
  {
   "cell_type": "markdown",
   "metadata": {},
   "source": [
    "## Text with Variables\n",
    "\n",
    "Variables can appear within strings. The function will return a unification variable for text that is covered by the variable."
   ]
  },
  {
   "cell_type": "code",
   "execution_count": 4,
   "metadata": {},
   "outputs": [
    {
     "name": "stdout",
     "output_type": "stream",
     "text": [
      "{'?name': 'jeremy'}\n"
     ]
    }
   ],
   "source": [
    "unification = thoughts.unification.unify_strings(\"my name is ?name\", \"my name is jeremy\")\n",
    "pprint.pprint(unification)"
   ]
  },
  {
   "cell_type": "markdown",
   "metadata": {},
   "source": [
    "## Text with Multiple Variables\n",
    "\n",
    "This matching is not limited to just one variable. You can include multiple wildcard markers that begin with \"?\" and the function will return a unification variable for every variable it is able to match in the text, based on the surrounding words.\n",
    "\n",
    "This can be a very powerful technique for simple parsing, where you know the overall structure of the phrase ahead of time."
   ]
  },
  {
   "cell_type": "code",
   "execution_count": 5,
   "metadata": {},
   "outputs": [
    {
     "name": "stdout",
     "output_type": "stream",
     "text": [
      "{'?premise': 'i think', '?conclusion': 'i am'}\n"
     ]
    }
   ],
   "source": [
    "pattern = \"?premise therefore ?conclusion\"\n",
    "candidate = \"i think therefore i am\"\n",
    "unification = thoughts.unification.unify(candidate, pattern)\n",
    "pprint.pprint(unification, sort_dicts=False)"
   ]
  },
  {
   "cell_type": "markdown",
   "metadata": {},
   "source": [
    "## Fact Matching\n",
    "\n",
    "Where things get interesting is unifying (matching) facts with other facts. The unification function will return a unification if every attribute in the pattern fact exists in the candidate fact, and if each attribute from the candidate fact unifies with the corresponding attribute from the pattern fact.\n",
    "\n",
    "In the example below, both the pattern and candidate facts have a \"sky\" and \"temperature\" attribute, and the values of this attributes match between both facts."
   ]
  },
  {
   "cell_type": "code",
   "execution_count": 6,
   "metadata": {},
   "outputs": [
    {
     "name": "stdout",
     "output_type": "stream",
     "text": [
      "{}\n"
     ]
    }
   ],
   "source": [
    "pattern = {\"sky\": \"cloudy\", \"temperature\": \"cold\"}\n",
    "\n",
    "candidate = {\"sky\": \"cloudy\", \"temperature\": \"cold\"}\n",
    "unification = thoughts.unification.unify(candidate, pattern)\n",
    "pprint.pprint(unification, sort_dicts=False)"
   ]
  },
  {
   "cell_type": "markdown",
   "metadata": {},
   "source": [
    "## When Facts Do No Match\n",
    "\n",
    "When the unification function is not able to unify the facts, it will return None.\n",
    "\n",
    "In the example below, the candidate's temperature is \"warm\" and the pattern's temperature is \"cold\", so these facts do not unify."
   ]
  },
  {
   "cell_type": "code",
   "execution_count": 7,
   "metadata": {},
   "outputs": [
    {
     "name": "stdout",
     "output_type": "stream",
     "text": [
      "None\n"
     ]
    }
   ],
   "source": [
    "candidate = {\"sky\": \"cloudy\", \"temperature\": \"warm\"}\n",
    "unification = thoughts.unification.unify(candidate, pattern)\n",
    "pprint.pprint(unification, sort_dicts=False)"
   ]
  },
  {
   "cell_type": "markdown",
   "metadata": {},
   "source": [
    "## Facts Can Use Variables Too\n",
    "\n",
    "Variables can appear in facts to allow for wildcard matching. The unfication algorithm will unify these according to the rules described above for unifying strings."
   ]
  },
  {
   "cell_type": "code",
   "execution_count": 8,
   "metadata": {},
   "outputs": [
    {
     "name": "stdout",
     "output_type": "stream",
     "text": [
      "{'?sky': 'cloudy'}\n"
     ]
    }
   ],
   "source": [
    "pattern = {\"sky\": \"?sky\", \"temperature\": \"cold\"}\n",
    "\n",
    "candidate = {\"sky\": \"cloudy\", \"temperature\": \"cold\"}\n",
    "unification = thoughts.unification.unify(candidate, pattern)\n",
    "pprint.pprint(unification, sort_dicts=False)"
   ]
  },
  {
   "cell_type": "markdown",
   "metadata": {},
   "source": [
    "## Variables Can Appear in Pattern or Candidate Terms\n",
    "\n",
    "Variables can appear in either the pattern term or the candidate term."
   ]
  },
  {
   "cell_type": "code",
   "execution_count": 9,
   "metadata": {},
   "outputs": [
    {
     "name": "stdout",
     "output_type": "stream",
     "text": [
      "{'?sky': 'cloudy'}\n"
     ]
    }
   ],
   "source": [
    "pattern = {\"sky\": \"cloudy\", \"temperature\": \"cold\"}\n",
    "\n",
    "candidate = {\"sky\": \"?sky\", \"temperature\": \"cold\"}\n",
    "unification = thoughts.unification.unify(pattern, candidate)\n",
    "pprint.pprint(unification, sort_dicts=False)"
   ]
  },
  {
   "cell_type": "markdown",
   "metadata": {},
   "source": [
    "## Variables Can Appear in Both Pattern and Candidate Terms\n",
    "\n",
    "Variables can also appear in both the pattern and candidate terms at the same time. The unification function will return a variable binding as a merged dictionary between both terms."
   ]
  },
  {
   "cell_type": "code",
   "execution_count": 10,
   "metadata": {},
   "outputs": [
    {
     "name": "stdout",
     "output_type": "stream",
     "text": [
      "{'?sky': 'cloudy', '?temp': 'cold'}\n"
     ]
    }
   ],
   "source": [
    "pattern = {\"sky\": \"?sky\", \"temperature\": \"cold\"}\n",
    "\n",
    "candidate = {\"sky\": \"cloudy\", \"temperature\": \"?temp\"}\n",
    "unification = thoughts.unification.unify(candidate, pattern)\n",
    "pprint.pprint(unification, sort_dicts=False)"
   ]
  },
  {
   "cell_type": "markdown",
   "metadata": {},
   "source": [
    "## Variables can Unify with Other Variables\n",
    "\n",
    "Variables can unify with other variables. When this occurs, the true value of the variable must be provided outside of the unification algorithm or evaluated for truth later."
   ]
  },
  {
   "cell_type": "code",
   "execution_count": 11,
   "metadata": {},
   "outputs": [
    {
     "name": "stdout",
     "output_type": "stream",
     "text": [
      "{'?sky2': '?sky1', '?temp2': '?temp1'}\n"
     ]
    }
   ],
   "source": [
    "pattern = {\"sky\": \"?sky1\", \"temperature\": \"?temp1\"}\n",
    "\n",
    "candidate = {\"sky\": \"?sky2\", \"temperature\": \"?temp2\"}\n",
    "unification = thoughts.unification.unify(candidate, pattern)\n",
    "pprint.pprint(unification, sort_dicts=False)"
   ]
  },
  {
   "cell_type": "markdown",
   "metadata": {},
   "source": [
    "## Facts Can Use Multi-Variable Strings\n",
    "\n",
    "Facts can contain string terms which have more than one variable, same as the unification rules above. These can be useful for parsing where you want to limit a pattern to only match when some other semantic condition occurs."
   ]
  },
  {
   "cell_type": "code",
   "execution_count": 12,
   "metadata": {},
   "outputs": [
    {
     "name": "stdout",
     "output_type": "stream",
     "text": [
      "{'?person': 'jeremy', '?food': 'the sandwich', '?location': 'restaurant'}\n"
     ]
    }
   ],
   "source": [
    "pattern = {\"phrase\": \"?person ate ?food\", \"location\": \"?location\"}\n",
    "\n",
    "candidate = {\"phrase\": \"jeremy ate the sandwich\", \"location\": \"restaurant\"}\n",
    "unification = thoughts.unification.unify(candidate, pattern)\n",
    "pprint.pprint(unification, sort_dicts=False)"
   ]
  },
  {
   "cell_type": "markdown",
   "metadata": {},
   "source": [
    "## Candidate Terms Must Have All Attributes from the Pattern Term\n",
    "\n",
    "A candidate term must have all attributes that are present in the pattern term.\n",
    "\n",
    "In the example below, the pattern term contains a \"wind\" attribute, which is not present in the candidate term.\n",
    "\n",
    "This is a key idea - that patterns will require that the incoming candidate term have ALL the attributes which are present. This allows you to create rules with similar patterns but with some slight discriminating difference."
   ]
  },
  {
   "cell_type": "code",
   "execution_count": 13,
   "metadata": {},
   "outputs": [
    {
     "name": "stdout",
     "output_type": "stream",
     "text": [
      "None\n"
     ]
    }
   ],
   "source": [
    "pattern = {\"sky\": \"?sky1\", \"temperature\": \"?temp1\", \"wind\": \"SSW\"}\n",
    "\n",
    "candidate = {\"sky\": \"?sky2\", \"temperature\": \"?temp2\"}\n",
    "unification = thoughts.unification.unify(candidate, pattern)\n",
    "pprint.pprint(unification, sort_dicts=False)"
   ]
  },
  {
   "cell_type": "markdown",
   "metadata": {},
   "source": [
    "## Candidate Terms Can Have More Terms than the Pattern\n",
    "\n",
    "On the flip side, candidate terms can contain more terms than pattern terms. This is useful where you want to pass additional information along with the candidate term throughout the assertion chain. The pattern will simply ignore this additional information but will pass it along so that other rules can use the information if needed."
   ]
  },
  {
   "cell_type": "code",
   "execution_count": 14,
   "metadata": {},
   "outputs": [
    {
     "name": "stdout",
     "output_type": "stream",
     "text": [
      "{'?sky2': '?sky1', '?temp2': '?temp1'}\n"
     ]
    }
   ],
   "source": [
    "pattern = {\"sky\": \"?sky1\", \"temperature\": \"?temp1\"}\n",
    "\n",
    "candidate = {\"sky\": \"?sky2\", \"temperature\": \"?temp2\", \"wind\": \"SSW\"}\n",
    "unification = thoughts.unification.unify(candidate, pattern)\n",
    "pprint.pprint(unification, sort_dicts=False)"
   ]
  },
  {
   "cell_type": "code",
   "execution_count": 16,
   "metadata": {},
   "outputs": [],
   "source": [
    "rules = [\n",
    "    {\"item\": \"brown\", \"sem\": {\"color\": \"BROWN\"}},\n",
    "    {\"item\": \"dog\", \"sem\": {\"entity\": \"DOG\"}},\n",
    "\n",
    "    {\"when\":    {\"input\": \"test\"},\n",
    "     \"then\":    [{\"#lookup\": \"$brown.sem\", \"#into\": \"?sem-art\"},\n",
    "                {\"#lookup\": \"$dog.sem\", \"#into\": \"?sem-noun\"},\n",
    "                {\"cat\": \"np\", \"sem\": {\"#combine\": [\"?sem-noun\", \"?sem-art\"]} }]\n",
    "    }\n",
    "]"
   ]
  }
 ],
 "metadata": {
  "interpreter": {
   "hash": "2131daa06b04808fa66558f781445fffc86a65c38e9ddc639756511472fbc9cd"
  },
  "kernelspec": {
   "display_name": "Python 3.8.5 64-bit ('thoughts-dev': conda)",
   "language": "python",
   "name": "python3"
  },
  "language_info": {
   "codemirror_mode": {
    "name": "ipython",
    "version": 3
   },
   "file_extension": ".py",
   "mimetype": "text/x-python",
   "name": "python",
   "nbconvert_exporter": "python",
   "pygments_lexer": "ipython3",
   "version": "3.8.5"
  },
  "orig_nbformat": 4
 },
 "nbformat": 4,
 "nbformat_minor": 2
}
