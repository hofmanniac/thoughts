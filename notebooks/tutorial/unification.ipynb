{
 "cells": [
  {
   "cell_type": "code",
   "execution_count": null,
   "metadata": {},
   "outputs": [],
   "source": [
    "rules = [\n",
    "    {\"item\": \"brown\", \"sem\": {\"color\": \"BROWN\"}},\n",
    "    {\"item\": \"dog\", \"sem\": {\"entity\": \"DOG\"}},\n",
    "\n",
    "    {\"when\":    {\"input\": \"test\"},\n",
    "     \"then\":    [{\"#lookup\": \"$brown.sem\", \"into\": \"?sem-art\"},\n",
    "                {\"#lookup\": \"$dog.sem\", \"into\": \"?sem-noun\"},\n",
    "                {\"cat\": \"np\", \"sem\": {\"#combine\": [\"?sem-noun\", \"?sem-art\"]} }]\n",
    "    },\n",
    "\n",
    "    {\"sem-2\": \"#\\\\ ?semh + ?semc\"}\n",
    "]"
   ]
  }
 ],
 "metadata": {
  "language_info": {
   "name": "python"
  },
  "orig_nbformat": 4
 },
 "nbformat": 4,
 "nbformat_minor": 2
}
