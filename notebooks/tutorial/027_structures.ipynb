{
 "cells": [
  {
   "cell_type": "markdown",
   "metadata": {},
   "source": [
    "## Building Higher-Order Structures\n",
    "\n",
    "By using combinations of rules, you can build up structures of information. This is useful in natural-language parsing for detecting phrase patterns, such as noun phrases (NPs), verb phrases (VPs), and sentences (S). You can combine information from smaller constituents during processing to pass along semantic and other information into the higher-order structures."
   ]
  },
  {
   "cell_type": "code",
   "execution_count": 18,
   "metadata": {},
   "outputs": [],
   "source": [
    "import os, sys\n",
    "sys.path.insert(1, os.path.abspath('..\\\\..'))\n",
    "from thoughts.rules_engine import RulesEngine\n",
    "from pprint import pprint\n",
    "\n",
    "# start a new engine\n",
    "engine = RulesEngine()"
   ]
  },
  {
   "cell_type": "markdown",
   "metadata": {},
   "source": [
    "## Example - Natural Language Parsing\n",
    "\n",
    "Structures are useful in natural-language parsing. Suppose you detect a NP (noun phrase) and you want to wait to see if there is a VP (verb phrase) which follows, to detect if a sentence is present. Ideally, you want to combine the meanings from the individual NP and VP consituents into a final meaning for the S (sentence). Structures can help you to do this.\n",
    "\n",
    "In the example below, when {\"cat\": \"art\", \"lemma\": \"the\"} is asserted, the rule will match the first constituent and add the rule as an arc to the active arcs. The new arc will \"wait\" for another consituent with {\"cat\": \"n\", \"lemma\": \"...\"} to be asserted before matching and firing the \"then\" portion."
   ]
  },
  {
   "cell_type": "code",
   "execution_count": 19,
   "metadata": {},
   "outputs": [],
   "source": [
    "rule = {\"#when\": [\n",
    "        {\"cat\" :\"art\", \"lemma\": \"?det\"},\n",
    "        {\"cat\" :\"n\", \"lemma\": \"?entity\"}],\n",
    "       \"#then\": \n",
    "        {\"cat\": \"np\", \"entity\": \"?entity\", \"det\": \"?det\"}\n",
    "}\n",
    "\n",
    "engine.add_rule(rule)"
   ]
  },
  {
   "cell_type": "markdown",
   "metadata": {},
   "source": [
    "Let's try a quick example:"
   ]
  },
  {
   "cell_type": "code",
   "execution_count": 20,
   "metadata": {},
   "outputs": [
    {
     "data": {
      "text/plain": [
       "[{'cat': 'np', 'entity': 'fox', 'det': 'the'}]"
      ]
     },
     "execution_count": 20,
     "metadata": {},
     "output_type": "execute_result"
    }
   ],
   "source": [
    "engine.process([{\"cat\": \"art\", \"lemma\": \"the\"}, {\"cat\": \"n\", \"lemma\": \"fox\"}])"
   ]
  },
  {
   "cell_type": "markdown",
   "metadata": {},
   "source": [
    "Essentially, the rule \"combines\" the information from the ART constituent 'the' with the information from the N constituent 'fox' into a larger NP consituent which tags the information from both with \"entity\" and \"det\" attributes. This supplies the final constituent with some semantics, or meaning, based on the smaller constituents."
   ]
  },
  {
   "cell_type": "markdown",
   "metadata": {},
   "source": [
    "## Adding More Rules and Capturing More Meaning\n",
    "\n",
    "Now let's add another rule to capture information about a verb phrase (VP). We'll keep this simple from now and detect whenever there's a single V (verb) consituent, followed by a noun phrase (NP)."
   ]
  },
  {
   "cell_type": "code",
   "execution_count": 21,
   "metadata": {},
   "outputs": [],
   "source": [
    "rule = {\"#when\": [\n",
    "        {\"cat\" :\"v\", \"lemma\": \"?verb\"},\n",
    "        {\"cat\" :\"np\", \"entity\": \"?entity\", \"det\": \"?det\"}],\n",
    "       \"#then\": \n",
    "        {\"cat\": \"vp\", \"action\": \"?verb\", \"entity\": \"?entity\", \"det\": \"?det\"}\n",
    "}\n",
    "\n",
    "engine.add_rule(rule)"
   ]
  },
  {
   "cell_type": "markdown",
   "metadata": {},
   "source": [
    "Let's try it on a sample:"
   ]
  },
  {
   "cell_type": "code",
   "execution_count": 22,
   "metadata": {},
   "outputs": [
    {
     "data": {
      "text/plain": [
       "[{'cat': 'vp', 'action': 'jumped over', 'entity': 'dog', 'det': 'the'}]"
      ]
     },
     "execution_count": 22,
     "metadata": {},
     "output_type": "execute_result"
    }
   ],
   "source": [
    "engine.process([{\"cat\": \"v\", \"lemma\": \"jumped over\"}, {\"cat\": \"art\", \"lemma\": \"the\"}, {\"cat\": \"n\", \"lemma\": \"dog\"}] )"
   ]
  },
  {
   "cell_type": "markdown",
   "metadata": {},
   "source": [
    "Great - the verb phrase has been combined into a single constituent, and has attributes representing the semantics (meaning) of the phrase.\n",
    "\n",
    "Now let's create a final rule, to detect whenever there's a NP followed by a VP - aka a Sentence (S)."
   ]
  },
  {
   "cell_type": "code",
   "execution_count": 23,
   "metadata": {},
   "outputs": [],
   "source": [
    "rule = {\"#when\": [\n",
    "        {\"cat\" :\"np\", \"entity\": \"?entity1\", \"det\": \"?det1\"},\n",
    "        {\"cat\": \"vp\", \"action\": \"?verb\", \"entity\": \"?entity2\", \"det\": \"?det2\"}],\n",
    "       \"#then\": \n",
    "        {\"cat\": \"s\", \"action\": \"?verb\", \"subject\": \"?entity1\", \"subj-det\": \"?det1\", \"object\": \"?entity2\", \"obj-det\": \"?det2\"}\n",
    "}\n",
    "\n",
    "engine.add_rule(rule)"
   ]
  },
  {
   "cell_type": "markdown",
   "metadata": {},
   "source": [
    "Now let's try a full sentence:"
   ]
  },
  {
   "cell_type": "code",
   "execution_count": 24,
   "metadata": {},
   "outputs": [
    {
     "name": "stdout",
     "output_type": "stream",
     "text": [
      "[{'cat': 'np', 'det': 'the', 'entity': 'fox'},\n",
      " {'action': 'jumped over',\n",
      "  'cat': 's',\n",
      "  'obj-det': 'the',\n",
      "  'object': 'dog',\n",
      "  'subj-det': 'the',\n",
      "  'subject': 'fox'}]\n"
     ]
    }
   ],
   "source": [
    "phrase = [\n",
    "{\"cat\": \"art\", \"lemma\": \"the\"}, \n",
    "{\"cat\": \"n\", \"lemma\": \"fox\"},\n",
    "{\"cat\": \"v\", \"lemma\": \"jumped over\"}, \n",
    "{\"cat\": \"art\", \"lemma\": \"the\"}, \n",
    "{\"cat\": \"n\", \"lemma\": \"dog\"}\n",
    "]\n",
    "\n",
    "conclusions = engine.process(phrase)\n",
    "pprint(conclusions)"
   ]
  },
  {
   "cell_type": "markdown",
   "metadata": {},
   "source": [
    "Here we added the semantic information to indicate that the first NP is the \"subject\" of the sentence, and the second NP found within the VP is the \"object\" of the sentence. This is how the semantics of a sentence are built from the constituent parts.\n",
    "\n",
    "The engine returned two final conclusions. This happens because the first NP doesn't directly lead to a rule which ends the sentence, and so by itself is a valid final conclusion. To return only the conclusions which are sentences (where cat = 's'):"
   ]
  },
  {
   "cell_type": "code",
   "execution_count": 25,
   "metadata": {},
   "outputs": [
    {
     "name": "stdout",
     "output_type": "stream",
     "text": [
      "[{'action': 'jumped over',\n",
      "  'cat': 's',\n",
      "  'obj-det': 'the',\n",
      "  'object': 'dog',\n",
      "  'subj-det': 'the',\n",
      "  'subject': 'fox'}]\n"
     ]
    }
   ],
   "source": [
    "sentences = [s for s in conclusions if s[\"cat\"] == \"s\"]\n",
    "pprint(sentences)"
   ]
  },
  {
   "cell_type": "markdown",
   "metadata": {},
   "source": [
    "## Deepening the Structure\n",
    "\n",
    "The above structure is rather flat. We had to create two attributes for each of the NP (subject and object) to track the entity 'entity' and the determiner 'det' for each noun phrase.\n",
    "\n",
    "Let's rewrite our rules a bit to store a 'sem', or semantic, attribute as we build up the constituents. This will actually make things easier as we do not have to keep specifying all of the semantic attributes needed for rules to match along the way."
   ]
  },
  {
   "cell_type": "code",
   "execution_count": 26,
   "metadata": {},
   "outputs": [],
   "source": [
    "# let's stat over\n",
    "engine.clear_rules()\n",
    "\n",
    "rule = {\"#when\": [\n",
    "        {\"cat\" :\"art\", \"lemma\": \"?det\"},\n",
    "        {\"cat\" :\"n\", \"lemma\": \"?entity\"}],\n",
    "       \"#then\": \n",
    "        {\"cat\": \"np\", \"sem\": {\"entity\": \"?entity\", \"det\": \"?det\"}}\n",
    "}\n",
    "\n",
    "engine.add_rule(rule)"
   ]
  },
  {
   "cell_type": "markdown",
   "metadata": {},
   "source": [
    "Here we wrapped the 'entity' and 'det' attributes into a single 'sem' attribute within the noun phrase. Now we can use just the 'sem' attribute in the higher-order matching rules:"
   ]
  },
  {
   "cell_type": "code",
   "execution_count": 27,
   "metadata": {},
   "outputs": [],
   "source": [
    "rule = {\"#when\": [\n",
    "        {\"cat\" :\"v\", \"lemma\": \"?verb\"},\n",
    "        {\"cat\" :\"np\", \"sem\": \"?semnp\"}],\n",
    "       \"#then\": \n",
    "        {\"cat\": \"vp\", \"action\": \"?verb\", \"object\": \"?semnp\"}\n",
    "}\n",
    "\n",
    "engine.add_rule(rule)"
   ]
  },
  {
   "cell_type": "markdown",
   "metadata": {},
   "source": [
    "Note above we've taken another minor shortcut by specifying that the NP is an 'object', since we're able to infer that already by the position of the constituents.\n",
    "\n",
    "Let's finish things off for the Sentence (S) rule:"
   ]
  },
  {
   "cell_type": "code",
   "execution_count": 28,
   "metadata": {},
   "outputs": [],
   "source": [
    "rule = {\"#when\": [\n",
    "        {\"cat\" :\"np\", \"sem\": \"?sem-np1\"},\n",
    "        {\"cat\": \"vp\", \"action\": \"?verb\", \"object\": \"?sem-obj\"}],\n",
    "       \"#then\": \n",
    "        {\"cat\": \"s\", \"action\": \"?verb\", \"subject\": \"?sem-np1\", \"object\": \"?sem-obj\"}\n",
    "}\n",
    "\n",
    "engine.add_rule(rule)"
   ]
  },
  {
   "cell_type": "markdown",
   "metadata": {},
   "source": [
    "And now for the test, using the same phrase as before to compare and extracting just the sentences, where 'cat' = 's'."
   ]
  },
  {
   "cell_type": "code",
   "execution_count": 31,
   "metadata": {},
   "outputs": [
    {
     "name": "stdout",
     "output_type": "stream",
     "text": [
      "[{'action': 'jumped over',\n",
      "  'cat': 's',\n",
      "  'object': {'det': 'the', 'entity': 'dog'},\n",
      "  'subject': {'det': 'the', 'entity': 'fox'}}]\n"
     ]
    }
   ],
   "source": [
    "phrase = [\n",
    "{\"cat\": \"art\", \"lemma\": \"the\"}, \n",
    "{\"cat\": \"n\", \"lemma\": \"fox\"},\n",
    "{\"cat\": \"v\", \"lemma\": \"jumped over\"}, \n",
    "{\"cat\": \"art\", \"lemma\": \"the\"}, \n",
    "{\"cat\": \"n\", \"lemma\": \"dog\"}\n",
    "]\n",
    "\n",
    "conclusions = engine.process(phrase)\n",
    "sentences = [s for s in conclusions if s[\"cat\"] == \"s\"]\n",
    "pprint(sentences)"
   ]
  },
  {
   "cell_type": "markdown",
   "metadata": {},
   "source": [
    "This is more clear. The subject and object information is now contained in a hierarchical structure, where we can embed additional information about the sub-constituents, and the rules were easier to write!"
   ]
  },
  {
   "cell_type": "markdown",
   "metadata": {},
   "source": [
    "## Summary\n",
    "\n",
    "You've seen how to construct higher-order structures from lower level constituents, and how to pass information along from the lower constituents to those higher-order structures. Experiment with your own rules and enjoy!"
   ]
  }
 ],
 "metadata": {
  "interpreter": {
   "hash": "709c4752a35eff92bed0ac957a962fbb166eb3a73f6d04371891287fb46c6a9b"
  },
  "kernelspec": {
   "display_name": "Python 3.9.5 64-bit",
   "language": "python",
   "name": "python3"
  },
  "language_info": {
   "codemirror_mode": {
    "name": "ipython",
    "version": 3
   },
   "file_extension": ".py",
   "mimetype": "text/x-python",
   "name": "python",
   "nbconvert_exporter": "python",
   "pygments_lexer": "ipython3",
   "version": "3.9.5"
  },
  "orig_nbformat": 4
 },
 "nbformat": 4,
 "nbformat_minor": 2
}
