{
 "cells": [
  {
   "cell_type": "markdown",
   "metadata": {},
   "source": [
    "## Building Higher-Order Structures\n",
    "\n",
    "Tutorial In Progress"
   ]
  },
  {
   "cell_type": "markdown",
   "metadata": {},
   "source": [
    "## Example - Natural Language Parsing\n",
    "\n",
    "This is useful for natural-language type parsing where a rule needs to wait on input before firing the consequent (then) portion. In the example below, when {\"cat\": \"art\", \"lemma\": \"the\"} is asserted, the rule will match the first constituent and add the rule as an arc to the active arcs. The new arc will \"wait\" for another consituent with {\"cat\": \"n\", \"lemma\": \"...\"} to be asserted before matching and firing the \"then\" portion. Be sure to place the constituents within an array / list [] within the \"when\" portion."
   ]
  },
  {
   "cell_type": "code",
   "execution_count": null,
   "metadata": {},
   "outputs": [],
   "source": [
    "rule = {\"#when\": [\n",
    "        {\"cat\" :\"art\", \"lemma\": \"?det\"},\n",
    "        {\"cat\" :\"n\", \"lemma\": \"?entity\"}],\n",
    "       \"#then\": \n",
    "        {\"cat\": \"np\", \"entity\": \"?entity\", \"art\": \"?art\"}\n",
    "}\n",
    "\n",
    "engine.add_rule(fact)"
   ]
  }
 ],
 "metadata": {
  "language_info": {
   "name": "python"
  },
  "orig_nbformat": 4
 },
 "nbformat": 4,
 "nbformat_minor": 2
}
