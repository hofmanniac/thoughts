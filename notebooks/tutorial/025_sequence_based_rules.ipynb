{
 "cells": [
  {
   "cell_type": "code",
   "execution_count": 4,
   "metadata": {},
   "outputs": [],
   "source": [
    "import os, sys\n",
    "sys.path.insert(1, os.path.abspath('..\\\\..'))\n",
    "from thoughts.rules_engine import RulesEngine\n",
    "from pprint import pprint\n",
    "\n",
    "# start a new engine\n",
    "engine = RulesEngine()"
   ]
  },
  {
   "cell_type": "code",
   "execution_count": 5,
   "metadata": {},
   "outputs": [
    {
     "name": "stdout",
     "output_type": "stream",
     "text": [
      "['A', 'B']\n"
     ]
    }
   ],
   "source": [
    "rules = [\n",
    "  { \"#when\": [\"A\", \"B\", \"C\"], \"#then\": \"ABC\" },\n",
    "]\n",
    "\n",
    "engine.add_rules(rules)\n",
    "\n",
    "result = engine.process([\"A\", \"B\"], extract_conclusions=True)\n",
    "pprint(result)"
   ]
  },
  {
   "cell_type": "code",
   "execution_count": 6,
   "metadata": {},
   "outputs": [
    {
     "name": "stdout",
     "output_type": "stream",
     "text": [
      "[{'#when': ['A', 'B', 'C'],\n",
      "  '#then': 'ABC',\n",
      "  '#seq-idx': 1,\n",
      "  '#seq-start': 0,\n",
      "  '#seq-end': 1,\n",
      "  '#unification': {'?#when': {'#assert': 'A', '#seq-start': 0, '#seq-end': 1}},\n",
      "  '#is-arc': True},\n",
      " {'#when': ['A', 'B', 'C'],\n",
      "  '#then': 'ABC',\n",
      "  '#seq-idx': 2,\n",
      "  '#seq-start': 1,\n",
      "  '#seq-end': 2,\n",
      "  '#unification': {'?#when': {'#assert': 'B', '#seq-start': 1, '#seq-end': 2}},\n",
      "  '#is-arc': True}]\n"
     ]
    }
   ],
   "source": [
    "pprint(engine.context.arcs, sort_dicts=False)"
   ]
  },
  {
   "cell_type": "code",
   "execution_count": 7,
   "metadata": {},
   "outputs": [
    {
     "name": "stdout",
     "output_type": "stream",
     "text": [
      "['A', 'B', 'D', 'A', 'B', 'ABC']\n"
     ]
    }
   ],
   "source": [
    "engine.clear_arcs()\n",
    "\n",
    "result = engine.process({\"#tokenize\": [\"A\", \"B\", \"D\", \"A\", \"B\", \"C\"], \"assert\": \"#\"}, extract_conclusions=True)\n",
    "pprint(result)"
   ]
  }
 ],
 "metadata": {
  "interpreter": {
   "hash": "2131daa06b04808fa66558f781445fffc86a65c38e9ddc639756511472fbc9cd"
  },
  "kernelspec": {
   "display_name": "Python 3.8.5 64-bit ('thoughts-dev': conda)",
   "language": "python",
   "name": "python3"
  },
  "language_info": {
   "codemirror_mode": {
    "name": "ipython",
    "version": 3
   },
   "file_extension": ".py",
   "mimetype": "text/x-python",
   "name": "python",
   "nbconvert_exporter": "python",
   "pygments_lexer": "ipython3",
   "version": "3.8.5"
  },
  "orig_nbformat": 4
 },
 "nbformat": 4,
 "nbformat_minor": 2
}
