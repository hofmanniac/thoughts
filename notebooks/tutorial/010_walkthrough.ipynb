{
 "cells": [
  {
   "cell_type": "markdown",
   "metadata": {},
   "source": [
    "Thoughts Rules Engine\n",
    "====================\n",
    "\n",
    "Thoughts is a lightweight rules engine."
   ]
  },
  {
   "cell_type": "markdown",
   "metadata": {},
   "source": [
    "## Import and Start a New Engine\n",
    "\n",
    "Start a new engine."
   ]
  },
  {
   "cell_type": "code",
   "execution_count": 1,
   "metadata": {},
   "outputs": [],
   "source": [
    "# import the thoughts rules engine\n",
    "import os, sys\n",
    "sys.path.insert(1, os.path.abspath('..\\\\..'))\n",
    "from thoughts.rules_engine import RulesEngine\n",
    " \n",
    "engine = RulesEngine()"
   ]
  },
  {
   "cell_type": "markdown",
   "metadata": {},
   "source": [
    "## Define Your Rules"
   ]
  },
  {
   "cell_type": "code",
   "execution_count": 2,
   "metadata": {},
   "outputs": [],
   "source": [
    "rule = {\"#when\": \"hello\",\n",
    "        \"#then\": {\"#output\": \"hello, world!\"}}"
   ]
  },
  {
   "cell_type": "markdown",
   "metadata": {},
   "source": [
    "## Load Your Rules into the Engine\n",
    "\n",
    "load_rules_from_list(rules, name=None) - Loads rules into memory directly from a list."
   ]
  },
  {
   "cell_type": "code",
   "execution_count": 3,
   "metadata": {},
   "outputs": [],
   "source": [
    "engine.add_rule(rule)"
   ]
  },
  {
   "cell_type": "markdown",
   "metadata": {},
   "source": [
    "## Run Assertions"
   ]
  },
  {
   "cell_type": "code",
   "execution_count": 4,
   "metadata": {},
   "outputs": [
    {
     "name": "stdout",
     "output_type": "stream",
     "text": [
      "hello, world!\n"
     ]
    },
    {
     "data": {
      "text/plain": [
       "[{'#output': 'hello, world!'}]"
      ]
     },
     "execution_count": 4,
     "metadata": {},
     "output_type": "execute_result"
    }
   ],
   "source": [
    "result = engine.process(\"hello\")"
   ]
  },
  {
   "cell_type": "markdown",
   "metadata": {},
   "source": [
    "## Load Rules from a File\n",
    "\n",
    "load_rules_from_file(file, name=None) - Loads a .json rules file into memory."
   ]
  },
  {
   "cell_type": "code",
   "execution_count": null,
   "metadata": {},
   "outputs": [],
   "source": [
    "engine.load_rules_from_file(\"rules.json\")"
   ]
  },
  {
   "cell_type": "markdown",
   "metadata": {},
   "source": [
    "## Add New Rules Manually\n",
    "\n",
    "Alternatively, you can create a manual rule without loading a file. The following adds a rule into memory. New rules are added to the default ruleset."
   ]
  },
  {
   "cell_type": "code",
   "execution_count": null,
   "metadata": {},
   "outputs": [],
   "source": [
    "rule = {\"#when\": \"what time is it\", \n",
    "        \"#then\": {\"#output\": \"time to get a new watch\"}}\n",
    "        \n",
    "engine.add_rule(rule)"
   ]
  },
  {
   "cell_type": "markdown",
   "metadata": {},
   "source": [
    "## Define and Run Assertions\n",
    "\n",
    "run_assert(assertion) - Evaluates the assertion against the loaded rules. Essentially, the evaluation will attempt to match the assertion against the \"when\" portion of all loaded rules.\n",
    "\n",
    "Assertions will match the \"when\" portion of rules, based on a unification algorithm:\n",
    "* Strings will match direct string matches, \"when\": \"hello\" will match \"hello\"\n",
    "* Strings will match using variables, \"when\": \"my dog is ?name\" will match \"my dog is fido\"\n",
    "* Dictionaries will match a dictionary, \"when\": {\"name\": \"fido\"} will match {\"name\": \"fido\"}\n",
    "\n",
    "If a rule matches, then the engine will add the \"then\" portion of the rule to the engine's evaluation agenda, substituting any unification variables that were determined during the \"when\" matching stage into the \"then\" items, and then evaluting them one at a time.\n",
    "\n",
    "As each command is evaluated for assertion, the system will also substitute any values from the Context Items that are indicated in the command item.\n",
    "\n",
    "Rules will \"forward chain\" - the \"then\" portion of rules will cause the engine to match against rules."
   ]
  },
  {
   "cell_type": "code",
   "execution_count": null,
   "metadata": {},
   "outputs": [],
   "source": [
    "new_rules = [\n",
    "\n",
    "    {   \"#when\": \"hello\",\n",
    "        \"#then\": {\"user-intent\": \"greet\"}\n",
    "    },\n",
    "\n",
    "    {   \"#when\": {\"user-intent\": \"greet\"},\n",
    "        \"#then\": {\"#output\": \"hello, world\"}\n",
    "    }\n",
    "]\n",
    "\n",
    "engine.load_rules_from_list(new_rules, \"hello-sample\")\n",
    "\n",
    "result = engine.process(\"hello\")"
   ]
  },
  {
   "cell_type": "markdown",
   "metadata": {},
   "source": [
    "## Multiple Actions\n",
    "\n",
    "You can have more than one command (action) in the \"then\" portion"
   ]
  },
  {
   "cell_type": "code",
   "execution_count": null,
   "metadata": {},
   "outputs": [],
   "source": [
    "new_rule = { \n",
    "    \"#when\": \"hi\",\n",
    "    \"#then\": [{\"#output\": \"hello there\"}, \n",
    "            {\"#output\": \"nice to meet you\"}]\n",
    "}\n",
    "\n",
    "engine.add_rule(new_rule)\n",
    "\n",
    "result = engine.process(\"hi\")"
   ]
  },
  {
   "cell_type": "markdown",
   "metadata": {},
   "source": [
    "## Storing Knowledge\n",
    "\n",
    "You can store \"item\" knowledge (facts)."
   ]
  },
  {
   "cell_type": "code",
   "execution_count": null,
   "metadata": {},
   "outputs": [],
   "source": [
    "fact = {\"item\": \"user\", \"name\": \"jeremy\", \"dog\": \"hudson\"}\n",
    "engine.add_rule(fact)"
   ]
  },
  {
   "cell_type": "markdown",
   "metadata": {},
   "source": [
    "## Reference Stored Knowledge\n",
    "\n",
    "You can reference the items (facts) and their properties in your rules, using $itemname.property syntax"
   ]
  },
  {
   "cell_type": "code",
   "execution_count": null,
   "metadata": {},
   "outputs": [],
   "source": [
    "fact = {\n",
    "        \"#when\": \"what is my name\", \n",
    "        \"#then\": [{\"#output\": \"your name is $user.name\"}]}\n",
    "        \n",
    "engine.add_rule(fact)\n",
    "\n",
    "result = engine.process(\"what is my name\")"
   ]
  },
  {
   "cell_type": "markdown",
   "metadata": {},
   "source": [
    "## Sequence-based rules (chart parsing)\n",
    "\n",
    "This is useful for natural-language type parsing where a rule needs to wait on input before firing the consequent (then) portion. In the example below, when {\"cat\": \"art\", \"lemma\": \"the\"} is asserted, the rule will match the first constituent and add the rule as an arc to the active arcs. The new arc will \"wait\" for another consituent with {\"cat\": \"n\", \"lemma\": \"...\"} to be asserted before matching and firing the \"then\" portion. Be sure to place the constituents within an array / list [] within the \"when\" portion."
   ]
  },
  {
   "cell_type": "code",
   "execution_count": null,
   "metadata": {},
   "outputs": [],
   "source": [
    "rule = {\"#when\": [\n",
    "        {\"cat\" :\"art\", \"lemma\": \"?det\"},\n",
    "        {\"cat\" :\"n\", \"lemma\": \"?entity\"}],\n",
    "       \"#then\": \n",
    "        {\"cat\": \"np\", \"entity\": \"?entity\", \"art\": \"?art\"}\n",
    "}\n",
    "\n",
    "engine.add_rule(fact)"
   ]
  },
  {
   "cell_type": "markdown",
   "metadata": {},
   "source": [
    "## Managing Active Arcs (Partial Matches in Progress)\n",
    "\n",
    "The active rules (arcs) will remain in memory until you clear them using engine.clear_arcs(). This is useful to assert one constituent at a time into the engine to inspect the results."
   ]
  },
  {
   "cell_type": "code",
   "execution_count": null,
   "metadata": {},
   "outputs": [],
   "source": [
    "## Clears all active arcs (sequence rules in-progress) from memory\n",
    "engine.clear_arcs()"
   ]
  },
  {
   "cell_type": "markdown",
   "metadata": {},
   "source": [
    " ## Adding your own or pip installed modules as plugins\n",
    "\n",
    "To do this, use load_plugin() and pass in a moniker and the \"dot\" path of the module. This module should already have been pip installed in the environment so that the runtime can load it, or could be a standalone module in your project.\n",
    "\n",
    "The load_plugin function Loads a plugin (Python module), which can be used in then \"then \"portion of rules. Whichever module you use will need to have a process function and that function will need to take two arguments - a dict and a thoughts.Context object.\n",
    "\n",
    "Then in your rules, you can use this as a command in the \"then\" rules.\n",
    "\n",
    "Your custom module has access to the Context object, which contains all of the loaded rules and items from command that ran previously."
   ]
  },
  {
   "cell_type": "code",
   "execution_count": null,
   "metadata": {},
   "outputs": [],
   "source": [
    "from thoughts.rules_engine import RulesEngine\n",
    "engine = RulesEngine()\n",
    "engine.load_plugin(\"#my-module\", \"my_module\")\n",
    "\n",
    "# my_module.py:\n",
    "def process(command, context): \n",
    "    # your logic goes here\n",
    "    # by convention, you can put the most relevant parameter feature into the head #my-module moniker,\n",
    "    # for example text = command[\"#my-module\"]"
   ]
  },
  {
   "cell_type": "markdown",
   "metadata": {},
   "source": [
    "## Run a Console (Interactive) Mode\n",
    "\n",
    "run_console() - Runs a console input loop. Each item entered will be passed into the engine's run_assert(assertion) function for evaluation.\n",
    "\n",
    "Entering \"#log\" will display the debug log.\n",
    "\n",
    "Entering \"#items\" will display the Context Items.\n",
    "\n",
    "Entering \"#clear_arcs\" will clear any active sequence-based rules (arcs) from memory.\n",
    "\n",
    "Entering \"#exit\" will exit the console loop. Note that the \"#exit\" command is also passed in as an assertion one last time, in case you want to handle the exit event first in any rules."
   ]
  }
 ],
 "metadata": {
  "interpreter": {
   "hash": "2131daa06b04808fa66558f781445fffc86a65c38e9ddc639756511472fbc9cd"
  },
  "kernelspec": {
   "display_name": "Python 3.8.5 64-bit ('thoughts-dev': conda)",
   "language": "python",
   "name": "python3"
  },
  "language_info": {
   "codemirror_mode": {
    "name": "ipython",
    "version": 3
   },
   "file_extension": ".py",
   "mimetype": "text/x-python",
   "name": "python",
   "nbconvert_exporter": "python",
   "pygments_lexer": "ipython3",
   "version": "3.8.5"
  },
  "orig_nbformat": 4
 },
 "nbformat": 4,
 "nbformat_minor": 2
}
