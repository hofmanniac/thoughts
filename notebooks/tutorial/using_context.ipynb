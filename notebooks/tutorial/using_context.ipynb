{
 "cells": [
  {
   "cell_type": "markdown",
   "metadata": {},
   "source": [
    "## Using Context Items\n",
    "\n",
    "Context is a global memory space available to rules to store and retrieve information about items. This is a key concept to know as this is a way for rules to communicate with each other during processing.\n",
    "\n",
    "Items are a generic term that represents a collection of knowledge about a single thing. A common way to use items is to store information about real-world entities, such as a person, place, or other object. Items can have attributes, and those attributes can be other nested values so that you can store hierarchical information about those items.\n",
    "\n",
    "If you are familiar with Blackboard systems, the Context is the area where all agents can write to and read from.\n",
    "\n",
    "During processing, rules can work together to contribute and add knowledge to items. For example, in a natural language processing system, you may have rules which detect noun phrases. These rules can work together to continually append information into a Context item, similiar to how we build up an image or understanding in our minds when we hear words describing an object."
   ]
  },
  {
   "cell_type": "code",
   "execution_count": 1,
   "metadata": {},
   "outputs": [
    {
     "name": "stdout",
     "output_type": "stream",
     "text": [
      "{}\n"
     ]
    }
   ],
   "source": [
    "import os, sys\n",
    "sys.path.insert(1, os.path.abspath('..\\\\..'))\n",
    "from thoughts.rules_engine import RulesEngine\n",
    "import pprint\n",
    "\n",
    "engine = RulesEngine()\n",
    "pprint.pprint(engine.context.items)"
   ]
  },
  {
   "cell_type": "markdown",
   "metadata": {},
   "source": [
    "## Naming Items\n",
    "\n",
    "Each item has a name, starting with a \"$\" character. You can use this name to refer to the item, as well as attributes on the item by using \"dot\" syntax. For example, you can have an item representing a person, track information about a person, and refer to that information with $person.phone_number.\n",
    "\n",
    "The code below adds an item manually to the Context. This is useful if you want to preload the Context with some information from a database or file. Upcoming sections will show you how to do this within the rules themselves to read and write information during rule processing."
   ]
  },
  {
   "cell_type": "code",
   "execution_count": 2,
   "metadata": {},
   "outputs": [
    {
     "name": "stdout",
     "output_type": "stream",
     "text": [
      "{'$tom': {'birthdate': '01/01/2005'}}\n"
     ]
    }
   ],
   "source": [
    "engine.context.items[\"$tom\"] = {\"birthdate\": \"01/01/2005\"}\n",
    "\n",
    "pprint.pprint(engine.context.items)"
   ]
  },
  {
   "cell_type": "markdown",
   "metadata": {},
   "source": [
    "## Storing Simple Values\n",
    "\n",
    "The #store command will store an item into the Context, similiar to how variables are stored in memory. Note that we use the term \"item\" when referring to an item in the Context.\n",
    "\n",
    "Note that the local variable's name starts with \"?\" and the Context item's name starts with \"$\". This is to help mentally separate temporary variables from more the persistant items in the Context."
   ]
  },
  {
   "cell_type": "code",
   "execution_count": 3,
   "metadata": {},
   "outputs": [
    {
     "name": "stdout",
     "output_type": "stream",
     "text": [
      "dog\n",
      "{'$animal': 'dog', '$tom': {'birthdate': '01/01/2005'}}\n"
     ]
    }
   ],
   "source": [
    "rule = {\n",
    "    \"#when\": \"animal\",\n",
    "    \"#then\": [{ \"#store\": \"dog\", \"#into\": \"$animal\" }, { \"#output\": \"$animal\" }]\n",
    "}\n",
    "\n",
    "engine.add_rule(rule)\n",
    "engine.run_assert(\"animal\")\n",
    "pprint.pprint(engine.context.items)"
   ]
  },
  {
   "cell_type": "markdown",
   "metadata": {},
   "source": [
    "## Storing Values Passed In\n",
    "\n",
    "You can also store values that are passed from the #when clause to the #then clauses.\n",
    "\n",
    "In this example, the ?animal variable is set in the #when clause and then used in the #then clause to store the value into the $animal Context item.\n",
    "\n",
    "Notice here too that the previous item's value is overrwritten with the new value."
   ]
  },
  {
   "cell_type": "code",
   "execution_count": 4,
   "metadata": {},
   "outputs": [
    {
     "name": "stdout",
     "output_type": "stream",
     "text": [
      "cat\n",
      "{'$animal': 'cat', '$tom': {'birthdate': '01/01/2005'}}\n"
     ]
    }
   ],
   "source": [
    "rule = {\n",
    "    \"#when\": \"the animal is a ?animal\",\n",
    "    \"#then\": [{ \"#store\": \"?animal\", \"#into\": \"$animal\" }, { \"#output\": \"$animal\" }]\n",
    "}\n",
    "\n",
    "engine.add_rule(rule)\n",
    "engine.run_assert(\"the animal is a cat\")\n",
    "pprint.pprint(engine.context.items)"
   ]
  },
  {
   "cell_type": "markdown",
   "metadata": {},
   "source": [
    "## Handling Unknown Values\n",
    "\n",
    "If the local variable is not set in the #when clause, then the variable's name will be used.\n",
    "\n",
    "Likewise, if an item is not found in the Context, then the item's name will be used."
   ]
  },
  {
   "cell_type": "code",
   "execution_count": 5,
   "metadata": {},
   "outputs": [
    {
     "name": "stdout",
     "output_type": "stream",
     "text": [
      "?sport\n",
      "$tree\n"
     ]
    }
   ],
   "source": [
    "rules = [{\n",
    "    \"#when\": \"sport\",\n",
    "    \"#then\": [{ \"#output\": \"?sport\" }]\n",
    "  },\n",
    "{\n",
    "    \"#when\": \"tree\",\n",
    "    \"#then\": [{ \"#output\": \"$tree\" }]\n",
    "}]\n",
    "\n",
    "engine.context.add_ruleset(rules, \"unknown-values\")\n",
    "engine.run_assert(\"sport\")\n",
    "engine.run_assert(\"tree\")"
   ]
  },
  {
   "cell_type": "markdown",
   "metadata": {},
   "source": [
    "## Appending Values\n",
    "\n",
    "By default, the #store command will replace the previous value with the new one. You can append the item to the current value by using the #append option, which creates a list."
   ]
  },
  {
   "cell_type": "code",
   "execution_count": 6,
   "metadata": {},
   "outputs": [
    {
     "name": "stdout",
     "output_type": "stream",
     "text": [
      "cars are ['jeep', 'honda']\n",
      "{'$animal': 'cat',\n",
      " '$cars': ['jeep', 'honda'],\n",
      " '$tom': {'birthdate': '01/01/2005'}}\n"
     ]
    }
   ],
   "source": [
    "rule = {\n",
    "    \"#when\": \"add ?car to the cars list\",\n",
    "    \"#then\": [{ \"#store\": \"jeep\", \"#into\": \"$cars\" }, \n",
    "             { \"#store\": \"?car\", \"#append\": \"$cars\" },\n",
    "             { \"#output\": \"cars are $cars\" }]\n",
    "}\n",
    "\n",
    "engine.add_rule(rule)\n",
    "engine.run_assert(\"add honda to the cars list\")\n",
    "pprint.pprint(engine.context.items)"
   ]
  },
  {
   "cell_type": "markdown",
   "metadata": {},
   "source": [
    "## Appending Values to the Beginning\n",
    "\n",
    "Or, if you need to place the item at the beginning of the sequence, you can do that using the #push option."
   ]
  },
  {
   "cell_type": "code",
   "execution_count": 7,
   "metadata": {},
   "outputs": [
    {
     "name": "stdout",
     "output_type": "stream",
     "text": [
      "foods are ['orange', 'apple']\n",
      "{'$animal': 'cat',\n",
      " '$cars': ['jeep', 'honda'],\n",
      " '$foods': ['orange', 'apple'],\n",
      " '$tom': {'birthdate': '01/01/2005'}}\n"
     ]
    }
   ],
   "source": [
    "rule = {\n",
    "    \"#when\": \"add ?food to the foods list\",\n",
    "    \"#then\": [{ \"#store\": \"apple\", \"#into\": \"$foods\" }, \n",
    "             { \"#store\": \"?food\", \"#push\": \"$foods\" },\n",
    "             { \"#output\": \"foods are $foods\" }]\n",
    "}\n",
    "\n",
    "engine.add_rule(rule)\n",
    "engine.run_assert(\"add orange to the foods list\")\n",
    "pprint.pprint(engine.context.items)"
   ]
  },
  {
   "cell_type": "code",
   "execution_count": null,
   "metadata": {},
   "outputs": [],
   "source": [
    "rules = [\n",
    "\n",
    "  {\"#item\": \"$dog1\", \"breed\": \"havanese\"},\n",
    "\n",
    "  {\n",
    "    \"#when\": \"doggo\",\n",
    "    \"#then\": \"$dog1.breed\"\n",
    "  },\n",
    "\n",
    "  {\n",
    "    \"#when\": \"get dog breed\",\n",
    "    \"#then\": [\n",
    "      { \"#assert\": \"doggo\", \"into\": \"?doginfo\" },\n",
    "      { \"#output\": \"?doginfo\"}\n",
    "    ]\n",
    "  }\n",
    "\n",
    "]"
   ]
  }
 ],
 "metadata": {
  "interpreter": {
   "hash": "2131daa06b04808fa66558f781445fffc86a65c38e9ddc639756511472fbc9cd"
  },
  "kernelspec": {
   "display_name": "Python 3.8.5 64-bit ('thoughts-dev': conda)",
   "language": "python",
   "name": "python3"
  },
  "language_info": {
   "codemirror_mode": {
    "name": "ipython",
    "version": 3
   },
   "file_extension": ".py",
   "mimetype": "text/x-python",
   "name": "python",
   "nbconvert_exporter": "python",
   "pygments_lexer": "ipython3",
   "version": "3.8.5"
  },
  "orig_nbformat": 4
 },
 "nbformat": 4,
 "nbformat_minor": 2
}
