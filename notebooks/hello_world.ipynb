{
 "cells": [
  {
   "cell_type": "markdown",
   "metadata": {},
   "source": [
    "## Hello, World!\n",
    "\n",
    "This is the canonical \"Hello, World\" example, to demonstrate the simplest possible use of the engine."
   ]
  },
  {
   "cell_type": "code",
   "execution_count": 4,
   "metadata": {},
   "outputs": [
    {
     "name": "stdout",
     "output_type": "stream",
     "text": [
      "hello, world!\n"
     ]
    }
   ],
   "source": [
    "import os, sys\n",
    "sys.path.insert(1, os.path.abspath('..'))\n",
    "from thoughts.rules_engine import RulesEngine\n",
    "\n",
    "# start a new engine\n",
    "engine = RulesEngine()\n",
    "\n",
    "# define your rules\n",
    "rules = [\n",
    "    {\"#when\": \"test\", \n",
    "     \"#then\": {\"#output\": \"hello, world!\"} }]\n",
    "\n",
    "# load the rules into the engine\n",
    "engine.load_rules_from_list(rules)\n",
    "\n",
    "# run assertions against those rules\n",
    "engine.run_assert(\"test\")"
   ]
  }
 ],
 "metadata": {
  "interpreter": {
   "hash": "2131daa06b04808fa66558f781445fffc86a65c38e9ddc639756511472fbc9cd"
  },
  "kernelspec": {
   "display_name": "Python 3.8.5 64-bit ('thoughts-dev': conda)",
   "language": "python",
   "name": "python3"
  },
  "language_info": {
   "codemirror_mode": {
    "name": "ipython",
    "version": 3
   },
   "file_extension": ".py",
   "mimetype": "text/x-python",
   "name": "python",
   "nbconvert_exporter": "python",
   "pygments_lexer": "ipython3",
   "version": "3.8.5"
  },
  "orig_nbformat": 4
 },
 "nbformat": 4,
 "nbformat_minor": 2
}
