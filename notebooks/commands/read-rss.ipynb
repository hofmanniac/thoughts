{
 "cells": [
  {
   "cell_type": "markdown",
   "metadata": {},
   "source": [
    "## Read-RSS Command\n",
    "\n",
    "Reads an rss feed and output it to the console at a readable rate"
   ]
  },
  {
   "cell_type": "code",
   "execution_count": 5,
   "metadata": {},
   "outputs": [
    {
     "name": "stdout",
     "output_type": "stream",
     "text": [
      "$rss.title\n"
     ]
    }
   ],
   "source": [
    "# import the thoughts rules engine\n",
    "import os, sys\n",
    "sys.path.insert(1, os.path.abspath('..\\\\..'))\n",
    "from thoughts.rules_engine import RulesEngine\n",
    "\n",
    "engine = RulesEngine()\n",
    "\n",
    "rules = [\n",
    "    {\"#when\": \"rss digg.top\",\n",
    "    \"#then\": [{\"#read-rss\": \"$?feed\", \"into\": \"rss\"},\n",
    "              {\"#output\": \"$rss.title\", \"rate\": 0.0225}]\n",
    "    },\n",
    "\n",
    "    {\"item\": \"digg\", \"top\": \"https://digg.com/rss/top.rss\"}\n",
    "]\n",
    "\n",
    "engine.load_rules_from_list(rules)\n",
    "\n",
    "engine.run_assert(\"rss digg.top\")\n"
   ]
  }
 ],
 "metadata": {
  "interpreter": {
   "hash": "2131daa06b04808fa66558f781445fffc86a65c38e9ddc639756511472fbc9cd"
  },
  "kernelspec": {
   "display_name": "Python 3.8.5 64-bit ('thoughts-dev': conda)",
   "language": "python",
   "name": "python3"
  },
  "language_info": {
   "codemirror_mode": {
    "name": "ipython",
    "version": 3
   },
   "file_extension": ".py",
   "mimetype": "text/x-python",
   "name": "python",
   "nbconvert_exporter": "python",
   "pygments_lexer": "ipython3",
   "version": "3.8.5"
  },
  "orig_nbformat": 4
 },
 "nbformat": 4,
 "nbformat_minor": 2
}
